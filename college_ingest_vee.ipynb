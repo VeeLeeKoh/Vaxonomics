{
 "cells": [
  {
   "cell_type": "markdown",
   "metadata": {},
   "source": [
    "### Ingest data from College dataset"
   ]
  },
  {
   "cell_type": "code",
   "execution_count": 5,
   "metadata": {},
   "outputs": [],
   "source": [
    "# Dataset name can't have white space\n",
    "dataset_id = \"college_staging_vee\""
   ]
  },
  {
   "cell_type": "code",
   "execution_count": 6,
   "metadata": {},
   "outputs": [
    {
     "name": "stdout",
     "output_type": "stream",
     "text": [
      "Dataset 'studied-brand-266702:college_staging_vee' successfully created.\n"
     ]
    }
   ],
   "source": [
    "# Create dataset\n",
    "!bq --location=US mk --dataset {dataset_id}"
   ]
  },
  {
   "cell_type": "markdown",
   "metadata": {},
   "source": [
    "### Creating tables and loading data into tables"
   ]
  },
  {
   "cell_type": "code",
   "execution_count": 8,
   "metadata": {},
   "outputs": [
    {
     "name": "stdout",
     "output_type": "stream",
     "text": [
      "Waiting on bqjob_r4634bd4f3e79b0ba_000001700db2f947_1 ... (1s) Current status: DONE   \n"
     ]
    }
   ],
   "source": [
    "# Create table\n",
    "!bq --location=US load --autodetect --skip_leading_rows=1 --source_format=CSV {dataset_id}.Classes \\\n",
    "'gs://cs327e-data-ingest1/Classes.csv'"
   ]
  },
  {
   "cell_type": "code",
   "execution_count": 9,
   "metadata": {},
   "outputs": [
    {
     "name": "stdout",
     "output_type": "stream",
     "text": [
      "Waiting on bqjob_r12650375c3575ac2_000001700dc42251_1 ... (2s) Current status: DONE   \n"
     ]
    }
   ],
   "source": [
    "!bq --location=US load --autodetect --skip_leading_rows=1 --source_format=CSV {dataset_id}.Current_Students \\\n",
    "'gs://cs327e-data-ingest1/Current_Students.csv'"
   ]
  },
  {
   "cell_type": "code",
   "execution_count": 10,
   "metadata": {},
   "outputs": [
    {
     "name": "stdout",
     "output_type": "stream",
     "text": [
      "Waiting on bqjob_r58a3422b6cff8e19_000001700dc45a9b_1 ... (2s) Current status: DONE   \n"
     ]
    }
   ],
   "source": [
    "!bq --location=US load --autodetect --skip_leading_rows=1 --source_format=CSV {dataset_id}.New_Students \\\n",
    "'gs://cs327e-data-ingest1/New_Students.csv'"
   ]
  },
  {
   "cell_type": "markdown",
   "metadata": {},
   "source": [
    "### Get record count for all 3 tables"
   ]
  },
  {
   "cell_type": "code",
   "execution_count": 19,
   "metadata": {},
   "outputs": [
    {
     "data": {
      "text/html": [
       "<div>\n",
       "<style scoped>\n",
       "    .dataframe tbody tr th:only-of-type {\n",
       "        vertical-align: middle;\n",
       "    }\n",
       "\n",
       "    .dataframe tbody tr th {\n",
       "        vertical-align: top;\n",
       "    }\n",
       "\n",
       "    .dataframe thead th {\n",
       "        text-align: right;\n",
       "    }\n",
       "</style>\n",
       "<table border=\"1\" class=\"dataframe\">\n",
       "  <thead>\n",
       "    <tr style=\"text-align: right;\">\n",
       "      <th></th>\n",
       "      <th>count</th>\n",
       "    </tr>\n",
       "  </thead>\n",
       "  <tbody>\n",
       "    <tr>\n",
       "      <th>0</th>\n",
       "      <td>13</td>\n",
       "    </tr>\n",
       "  </tbody>\n",
       "</table>\n",
       "</div>"
      ],
      "text/plain": [
       "   count\n",
       "0     13"
      ]
     },
     "execution_count": 19,
     "metadata": {},
     "output_type": "execute_result"
    }
   ],
   "source": [
    "%%bigquery\n",
    "select count(*) as count from college_staging_vee.Classes"
   ]
  },
  {
   "cell_type": "code",
   "execution_count": 20,
   "metadata": {},
   "outputs": [
    {
     "data": {
      "text/html": [
       "<div>\n",
       "<style scoped>\n",
       "    .dataframe tbody tr th:only-of-type {\n",
       "        vertical-align: middle;\n",
       "    }\n",
       "\n",
       "    .dataframe tbody tr th {\n",
       "        vertical-align: top;\n",
       "    }\n",
       "\n",
       "    .dataframe thead th {\n",
       "        text-align: right;\n",
       "    }\n",
       "</style>\n",
       "<table border=\"1\" class=\"dataframe\">\n",
       "  <thead>\n",
       "    <tr style=\"text-align: right;\">\n",
       "      <th></th>\n",
       "      <th>count</th>\n",
       "    </tr>\n",
       "  </thead>\n",
       "  <tbody>\n",
       "    <tr>\n",
       "      <th>0</th>\n",
       "      <td>13</td>\n",
       "    </tr>\n",
       "  </tbody>\n",
       "</table>\n",
       "</div>"
      ],
      "text/plain": [
       "   count\n",
       "0     13"
      ]
     },
     "execution_count": 20,
     "metadata": {},
     "output_type": "execute_result"
    }
   ],
   "source": [
    "%%bigquery\n",
    "select count(*) as count from college_staging_vee.Current_Students"
   ]
  },
  {
   "cell_type": "code",
   "execution_count": 21,
   "metadata": {},
   "outputs": [
    {
     "data": {
      "text/html": [
       "<div>\n",
       "<style scoped>\n",
       "    .dataframe tbody tr th:only-of-type {\n",
       "        vertical-align: middle;\n",
       "    }\n",
       "\n",
       "    .dataframe tbody tr th {\n",
       "        vertical-align: top;\n",
       "    }\n",
       "\n",
       "    .dataframe thead th {\n",
       "        text-align: right;\n",
       "    }\n",
       "</style>\n",
       "<table border=\"1\" class=\"dataframe\">\n",
       "  <thead>\n",
       "    <tr style=\"text-align: right;\">\n",
       "      <th></th>\n",
       "      <th>count</th>\n",
       "    </tr>\n",
       "  </thead>\n",
       "  <tbody>\n",
       "    <tr>\n",
       "      <th>0</th>\n",
       "      <td>7</td>\n",
       "    </tr>\n",
       "  </tbody>\n",
       "</table>\n",
       "</div>"
      ],
      "text/plain": [
       "   count\n",
       "0      7"
      ]
     },
     "execution_count": 21,
     "metadata": {},
     "output_type": "execute_result"
    }
   ],
   "source": [
    "%%bigquery\n",
    "select count(*) as count from college_staging_vee.New_Students"
   ]
  },
  {
   "cell_type": "markdown",
   "metadata": {},
   "source": [
    "### Read sample records from tables"
   ]
  },
  {
   "cell_type": "code",
   "execution_count": 22,
   "metadata": {},
   "outputs": [
    {
     "data": {
      "text/html": [
       "<div>\n",
       "<style scoped>\n",
       "    .dataframe tbody tr th:only-of-type {\n",
       "        vertical-align: middle;\n",
       "    }\n",
       "\n",
       "    .dataframe tbody tr th {\n",
       "        vertical-align: top;\n",
       "    }\n",
       "\n",
       "    .dataframe thead th {\n",
       "        text-align: right;\n",
       "    }\n",
       "</style>\n",
       "<table border=\"1\" class=\"dataframe\">\n",
       "  <thead>\n",
       "    <tr style=\"text-align: right;\">\n",
       "      <th></th>\n",
       "      <th>tid</th>\n",
       "      <th>instructor</th>\n",
       "      <th>dept</th>\n",
       "      <th>cno</th>\n",
       "      <th>cname</th>\n",
       "      <th>credits</th>\n",
       "    </tr>\n",
       "  </thead>\n",
       "  <tbody>\n",
       "    <tr>\n",
       "      <th>0</th>\n",
       "      <td>fares</td>\n",
       "      <td>Fares Fraij</td>\n",
       "      <td>CS</td>\n",
       "      <td>CS331E</td>\n",
       "      <td>Elements of Software Engineering</td>\n",
       "      <td>3</td>\n",
       "    </tr>\n",
       "    <tr>\n",
       "      <th>1</th>\n",
       "      <td>abraham</td>\n",
       "      <td>Prof. Sarah Abraham</td>\n",
       "      <td>CS</td>\n",
       "      <td>CS329E</td>\n",
       "      <td>Elements of Mobile Computing</td>\n",
       "      <td>3</td>\n",
       "    </tr>\n",
       "    <tr>\n",
       "      <th>2</th>\n",
       "      <td>mitra</td>\n",
       "      <td>Mitra, Shyamal</td>\n",
       "      <td>CS</td>\n",
       "      <td>CS313E</td>\n",
       "      <td>Elements of Software Design</td>\n",
       "      <td>3</td>\n",
       "    </tr>\n",
       "    <tr>\n",
       "      <th>3</th>\n",
       "      <td>cannata</td>\n",
       "      <td>PHILIP CANNATA</td>\n",
       "      <td>CS</td>\n",
       "      <td>CS326E</td>\n",
       "      <td>Elements of Networking</td>\n",
       "      <td>3</td>\n",
       "    </tr>\n",
       "    <tr>\n",
       "      <th>4</th>\n",
       "      <td>cannata</td>\n",
       "      <td>Cannata, Philip</td>\n",
       "      <td>CS</td>\n",
       "      <td>CS347</td>\n",
       "      <td>Data Management</td>\n",
       "      <td>3</td>\n",
       "    </tr>\n",
       "  </tbody>\n",
       "</table>\n",
       "</div>"
      ],
      "text/plain": [
       "       tid           instructor dept     cno  \\\n",
       "0    fares          Fares Fraij   CS  CS331E   \n",
       "1  abraham  Prof. Sarah Abraham   CS  CS329E   \n",
       "2    mitra       Mitra, Shyamal   CS  CS313E   \n",
       "3  cannata       PHILIP CANNATA   CS  CS326E   \n",
       "4  cannata      Cannata, Philip   CS   CS347   \n",
       "\n",
       "                              cname  credits  \n",
       "0  Elements of Software Engineering        3  \n",
       "1      Elements of Mobile Computing        3  \n",
       "2       Elements of Software Design        3  \n",
       "3            Elements of Networking        3  \n",
       "4                   Data Management        3  "
      ]
     },
     "execution_count": 22,
     "metadata": {},
     "output_type": "execute_result"
    }
   ],
   "source": [
    "%%bigquery\n",
    "select * from college_staging_vee.Classes\n",
    "limit 5"
   ]
  },
  {
   "cell_type": "code",
   "execution_count": 23,
   "metadata": {},
   "outputs": [
    {
     "data": {
      "text/html": [
       "<div>\n",
       "<style scoped>\n",
       "    .dataframe tbody tr th:only-of-type {\n",
       "        vertical-align: middle;\n",
       "    }\n",
       "\n",
       "    .dataframe tbody tr th {\n",
       "        vertical-align: top;\n",
       "    }\n",
       "\n",
       "    .dataframe thead th {\n",
       "        text-align: right;\n",
       "    }\n",
       "</style>\n",
       "<table border=\"1\" class=\"dataframe\">\n",
       "  <thead>\n",
       "    <tr style=\"text-align: right;\">\n",
       "      <th></th>\n",
       "      <th>sid</th>\n",
       "      <th>fname</th>\n",
       "      <th>lname</th>\n",
       "      <th>dob</th>\n",
       "    </tr>\n",
       "  </thead>\n",
       "  <tbody>\n",
       "    <tr>\n",
       "      <th>0</th>\n",
       "      <td>aprilz</td>\n",
       "      <td>April</td>\n",
       "      <td>Lopez</td>\n",
       "      <td>2000-01-10</td>\n",
       "    </tr>\n",
       "    <tr>\n",
       "      <th>1</th>\n",
       "      <td>sudeepa4</td>\n",
       "      <td>Sudeepa</td>\n",
       "      <td>Roy</td>\n",
       "      <td>2000-10-01</td>\n",
       "    </tr>\n",
       "    <tr>\n",
       "      <th>2</th>\n",
       "      <td>ryan22</td>\n",
       "      <td>Ryan</td>\n",
       "      <td>Watson</td>\n",
       "      <td>2000-11-07</td>\n",
       "    </tr>\n",
       "    <tr>\n",
       "      <th>3</th>\n",
       "      <td>dchen</td>\n",
       "      <td>David</td>\n",
       "      <td>Chen</td>\n",
       "      <td>2000-08-22</td>\n",
       "    </tr>\n",
       "    <tr>\n",
       "      <th>4</th>\n",
       "      <td>natea</td>\n",
       "      <td>Nathan</td>\n",
       "      <td>Anderson</td>\n",
       "      <td>2000-04-08</td>\n",
       "    </tr>\n",
       "  </tbody>\n",
       "</table>\n",
       "</div>"
      ],
      "text/plain": [
       "        sid    fname     lname         dob\n",
       "0    aprilz    April     Lopez  2000-01-10\n",
       "1  sudeepa4  Sudeepa       Roy  2000-10-01\n",
       "2    ryan22     Ryan    Watson  2000-11-07\n",
       "3     dchen    David      Chen  2000-08-22\n",
       "4     natea   Nathan  Anderson  2000-04-08"
      ]
     },
     "execution_count": 23,
     "metadata": {},
     "output_type": "execute_result"
    }
   ],
   "source": [
    "%%bigquery\n",
    "select * from college_staging_vee.New_Students\n",
    "limit 5"
   ]
  },
  {
   "cell_type": "code",
   "execution_count": 26,
   "metadata": {},
   "outputs": [
    {
     "data": {
      "text/html": [
       "<div>\n",
       "<style scoped>\n",
       "    .dataframe tbody tr th:only-of-type {\n",
       "        vertical-align: middle;\n",
       "    }\n",
       "\n",
       "    .dataframe tbody tr th {\n",
       "        vertical-align: top;\n",
       "    }\n",
       "\n",
       "    .dataframe thead th {\n",
       "        text-align: right;\n",
       "    }\n",
       "</style>\n",
       "<table border=\"1\" class=\"dataframe\">\n",
       "  <thead>\n",
       "    <tr style=\"text-align: right;\">\n",
       "      <th></th>\n",
       "      <th>sid</th>\n",
       "      <th>fname</th>\n",
       "      <th>lname</th>\n",
       "      <th>dob</th>\n",
       "      <th>cno</th>\n",
       "      <th>cname</th>\n",
       "      <th>credits</th>\n",
       "      <th>grade</th>\n",
       "    </tr>\n",
       "  </thead>\n",
       "  <tbody>\n",
       "    <tr>\n",
       "      <th>0</th>\n",
       "      <td>kev18</td>\n",
       "      <td>Kevin</td>\n",
       "      <td>Lin</td>\n",
       "      <td>05/10/1999</td>\n",
       "      <td>CS329E</td>\n",
       "      <td>Elements of Web Programming</td>\n",
       "      <td>3</td>\n",
       "      <td>None</td>\n",
       "    </tr>\n",
       "    <tr>\n",
       "      <th>1</th>\n",
       "      <td>paulg</td>\n",
       "      <td>Paul</td>\n",
       "      <td>Gore</td>\n",
       "      <td>2000-09-17</td>\n",
       "      <td>CS329E</td>\n",
       "      <td>Elements of Web Programming</td>\n",
       "      <td>3</td>\n",
       "      <td>A</td>\n",
       "    </tr>\n",
       "    <tr>\n",
       "      <th>2</th>\n",
       "      <td>paulg</td>\n",
       "      <td>Paul</td>\n",
       "      <td>Gore</td>\n",
       "      <td>2000-09-17</td>\n",
       "      <td>CS326E - Fall18</td>\n",
       "      <td>Elements of Networking</td>\n",
       "      <td>3</td>\n",
       "      <td>A-</td>\n",
       "    </tr>\n",
       "    <tr>\n",
       "      <th>3</th>\n",
       "      <td>paulg</td>\n",
       "      <td>Paul</td>\n",
       "      <td>Gore</td>\n",
       "      <td>09/17/2000</td>\n",
       "      <td>CS313E</td>\n",
       "      <td>Elements of Software Design</td>\n",
       "      <td>3</td>\n",
       "      <td>None</td>\n",
       "    </tr>\n",
       "    <tr>\n",
       "      <th>4</th>\n",
       "      <td>bzen26</td>\n",
       "      <td>Biswa</td>\n",
       "      <td>Zen</td>\n",
       "      <td>04/22/1998</td>\n",
       "      <td>CS313E - Fall18</td>\n",
       "      <td>Elements of Software Design</td>\n",
       "      <td>3</td>\n",
       "      <td>B+</td>\n",
       "    </tr>\n",
       "  </tbody>\n",
       "</table>\n",
       "</div>"
      ],
      "text/plain": [
       "      sid  fname lname         dob              cno  \\\n",
       "0   kev18  Kevin   Lin  05/10/1999           CS329E   \n",
       "1   paulg   Paul  Gore  2000-09-17           CS329E   \n",
       "2   paulg   Paul  Gore  2000-09-17  CS326E - Fall18   \n",
       "3   paulg   Paul  Gore  09/17/2000           CS313E   \n",
       "4  bzen26  Biswa   Zen  04/22/1998  CS313E - Fall18   \n",
       "\n",
       "                         cname  credits grade  \n",
       "0  Elements of Web Programming        3  None  \n",
       "1  Elements of Web Programming        3     A  \n",
       "2       Elements of Networking        3    A-  \n",
       "3  Elements of Software Design        3  None  \n",
       "4  Elements of Software Design        3    B+  "
      ]
     },
     "execution_count": 26,
     "metadata": {},
     "output_type": "execute_result"
    }
   ],
   "source": [
    "%%bigquery\n",
    "select * from college_staging_vee.Current_Students\n",
    "limit 5"
   ]
  },
  {
   "cell_type": "markdown",
   "metadata": {},
   "source": [
    "### Quiz"
   ]
  },
  {
   "cell_type": "code",
   "execution_count": 46,
   "metadata": {},
   "outputs": [
    {
     "data": {
      "text/html": [
       "<div>\n",
       "<style scoped>\n",
       "    .dataframe tbody tr th:only-of-type {\n",
       "        vertical-align: middle;\n",
       "    }\n",
       "\n",
       "    .dataframe tbody tr th {\n",
       "        vertical-align: top;\n",
       "    }\n",
       "\n",
       "    .dataframe thead th {\n",
       "        text-align: right;\n",
       "    }\n",
       "</style>\n",
       "<table border=\"1\" class=\"dataframe\">\n",
       "  <thead>\n",
       "    <tr style=\"text-align: right;\">\n",
       "      <th></th>\n",
       "      <th>sid</th>\n",
       "      <th>fname</th>\n",
       "      <th>lname</th>\n",
       "      <th>dob</th>\n",
       "      <th>cno</th>\n",
       "      <th>cname</th>\n",
       "      <th>credits</th>\n",
       "      <th>grade</th>\n",
       "    </tr>\n",
       "  </thead>\n",
       "  <tbody>\n",
       "    <tr>\n",
       "      <th>0</th>\n",
       "      <td>jc</td>\n",
       "      <td>James</td>\n",
       "      <td>Cowe</td>\n",
       "      <td>2000-04-22</td>\n",
       "      <td>CS327E</td>\n",
       "      <td>CS327E – Elements of Databases</td>\n",
       "      <td>3</td>\n",
       "      <td>None</td>\n",
       "    </tr>\n",
       "    <tr>\n",
       "      <th>1</th>\n",
       "      <td>jerryh</td>\n",
       "      <td>Jerry</td>\n",
       "      <td>Hargrove</td>\n",
       "      <td>01/03/1999</td>\n",
       "      <td>CS327E</td>\n",
       "      <td>Elements of Databases</td>\n",
       "      <td>3</td>\n",
       "      <td>B</td>\n",
       "    </tr>\n",
       "    <tr>\n",
       "      <th>2</th>\n",
       "      <td>jerryh</td>\n",
       "      <td>Jerry</td>\n",
       "      <td>Hargrove</td>\n",
       "      <td>01/03/1999</td>\n",
       "      <td>CS327E</td>\n",
       "      <td>Elements of Databases</td>\n",
       "      <td>0</td>\n",
       "      <td>None</td>\n",
       "    </tr>\n",
       "    <tr>\n",
       "      <th>3</th>\n",
       "      <td>jerryh</td>\n",
       "      <td>Jerry</td>\n",
       "      <td>Hargrove</td>\n",
       "      <td>1999-01-03</td>\n",
       "      <td>CS329E</td>\n",
       "      <td>Elements of Web Programming</td>\n",
       "      <td>3</td>\n",
       "      <td>A-</td>\n",
       "    </tr>\n",
       "    <tr>\n",
       "      <th>4</th>\n",
       "      <td>kev18</td>\n",
       "      <td>Kevin</td>\n",
       "      <td>Lin</td>\n",
       "      <td>05/10/1999</td>\n",
       "      <td>CS329E</td>\n",
       "      <td>Elements of Web Programming</td>\n",
       "      <td>3</td>\n",
       "      <td>None</td>\n",
       "    </tr>\n",
       "    <tr>\n",
       "      <th>5</th>\n",
       "      <td>paulg</td>\n",
       "      <td>Paul</td>\n",
       "      <td>Gore</td>\n",
       "      <td>2000-09-17</td>\n",
       "      <td>CS329E</td>\n",
       "      <td>Elements of Web Programming</td>\n",
       "      <td>3</td>\n",
       "      <td>A</td>\n",
       "    </tr>\n",
       "  </tbody>\n",
       "</table>\n",
       "</div>"
      ],
      "text/plain": [
       "      sid  fname     lname         dob     cno  \\\n",
       "0      jc  James      Cowe  2000-04-22  CS327E   \n",
       "1  jerryh  Jerry  Hargrove  01/03/1999  CS327E   \n",
       "2  jerryh  Jerry  Hargrove  01/03/1999  CS327E   \n",
       "3  jerryh  Jerry  Hargrove  1999-01-03  CS329E   \n",
       "4   kev18  Kevin       Lin  05/10/1999  CS329E   \n",
       "5   paulg   Paul      Gore  2000-09-17  CS329E   \n",
       "\n",
       "                            cname  credits grade  \n",
       "0  CS327E – Elements of Databases        3  None  \n",
       "1           Elements of Databases        3     B  \n",
       "2           Elements of Databases        0  None  \n",
       "3     Elements of Web Programming        3    A-  \n",
       "4     Elements of Web Programming        3  None  \n",
       "5     Elements of Web Programming        3     A  "
      ]
     },
     "execution_count": 46,
     "metadata": {},
     "output_type": "execute_result"
    }
   ],
   "source": [
    "%%bigquery\n",
    "# Who takes CS327E or CS329E\n",
    "select * from college_staging_vee.Current_Students where cno = \"CS327E\" or cno=\"CS329E\"\n",
    "order by sid"
   ]
  },
  {
   "cell_type": "code",
   "execution_count": 50,
   "metadata": {},
   "outputs": [
    {
     "data": {
      "text/html": [
       "<div>\n",
       "<style scoped>\n",
       "    .dataframe tbody tr th:only-of-type {\n",
       "        vertical-align: middle;\n",
       "    }\n",
       "\n",
       "    .dataframe tbody tr th {\n",
       "        vertical-align: top;\n",
       "    }\n",
       "\n",
       "    .dataframe thead th {\n",
       "        text-align: right;\n",
       "    }\n",
       "</style>\n",
       "<table border=\"1\" class=\"dataframe\">\n",
       "  <thead>\n",
       "    <tr style=\"text-align: right;\">\n",
       "      <th></th>\n",
       "      <th>sid</th>\n",
       "    </tr>\n",
       "  </thead>\n",
       "  <tbody>\n",
       "  </tbody>\n",
       "</table>\n",
       "</div>"
      ],
      "text/plain": [
       "Empty DataFrame\n",
       "Columns: [sid]\n",
       "Index: []"
      ]
     },
     "execution_count": 50,
     "metadata": {},
     "output_type": "execute_result"
    }
   ],
   "source": [
    "%%bigquery\n",
    "# Who takes CS327E and CS329E\n",
    "SELECT sid \n",
    "From college_staging_vee.Current_Students\n",
    "WHERE cno = \"CS327E\" AND cno = \"CS329E\"\n",
    "GROUP BY sid\n",
    "# Wrong - need to use JOIN"
   ]
  },
  {
   "cell_type": "code",
   "execution_count": null,
   "metadata": {},
   "outputs": [],
   "source": []
  }
 ],
 "metadata": {
  "kernelspec": {
   "display_name": "Python 3",
   "language": "python",
   "name": "python3"
  },
  "language_info": {
   "codemirror_mode": {
    "name": "ipython",
    "version": 3
   },
   "file_extension": ".py",
   "mimetype": "text/x-python",
   "name": "python",
   "nbconvert_exporter": "python",
   "pygments_lexer": "ipython3",
   "version": "3.7.4"
  }
 },
 "nbformat": 4,
 "nbformat_minor": 4
}
