{
 "cells": [
  {
   "cell_type": "markdown",
   "metadata": {},
   "source": [
    "### Model VAERS Dataset"
   ]
  },
  {
   "cell_type": "code",
   "execution_count": 1,
   "metadata": {},
   "outputs": [
    {
     "name": "stdout",
     "output_type": "stream",
     "text": [
      "Dataset 'studied-brand-266702:vaers_modeled' successfully created.\n"
     ]
    }
   ],
   "source": [
    "dataset_id = \"vaers_modeled\"\n",
    "!bq --location=US mk --dataset {dataset_id}"
   ]
  },
  {
   "cell_type": "markdown",
   "metadata": {},
   "source": [
    "### Split staging Events table into separate entities: Patient table and Adverse_Event table "
   ]
  },
  {
   "cell_type": "markdown",
   "metadata": {},
   "source": [
    "#### Create Patient table"
   ]
  },
  {
   "cell_type": "code",
   "execution_count": 1,
   "metadata": {},
   "outputs": [
    {
     "data": {
      "text/html": [
       "<div>\n",
       "<style scoped>\n",
       "    .dataframe tbody tr th:only-of-type {\n",
       "        vertical-align: middle;\n",
       "    }\n",
       "\n",
       "    .dataframe tbody tr th {\n",
       "        vertical-align: top;\n",
       "    }\n",
       "\n",
       "    .dataframe thead th {\n",
       "        text-align: right;\n",
       "    }\n",
       "</style>\n",
       "<table border=\"1\" class=\"dataframe\">\n",
       "  <thead>\n",
       "    <tr style=\"text-align: right;\">\n",
       "      <th></th>\n",
       "    </tr>\n",
       "  </thead>\n",
       "  <tbody>\n",
       "  </tbody>\n",
       "</table>\n",
       "</div>"
      ],
      "text/plain": [
       "Empty DataFrame\n",
       "Columns: []\n",
       "Index: []"
      ]
     },
     "execution_count": 1,
     "metadata": {},
     "output_type": "execute_result"
    }
   ],
   "source": [
    "%%bigquery\n",
    "create or replace table vaers_modeled.Patient as\n",
    "select DISTINCT ROW_NUMBER() OVER(ORDER BY VAERS_ID) as PATIENT_ID, VAERS_ID, STATE, CAST(AGE_YRS AS INT64) AS AGE_YRS, SEX, ALLERGIES\n",
    "from vaers_staging.Events"
   ]
  },
  {
   "cell_type": "code",
   "execution_count": 2,
   "metadata": {},
   "outputs": [
    {
     "data": {
      "text/html": [
       "<div>\n",
       "<style scoped>\n",
       "    .dataframe tbody tr th:only-of-type {\n",
       "        vertical-align: middle;\n",
       "    }\n",
       "\n",
       "    .dataframe tbody tr th {\n",
       "        vertical-align: top;\n",
       "    }\n",
       "\n",
       "    .dataframe thead th {\n",
       "        text-align: right;\n",
       "    }\n",
       "</style>\n",
       "<table border=\"1\" class=\"dataframe\">\n",
       "  <thead>\n",
       "    <tr style=\"text-align: right;\">\n",
       "      <th></th>\n",
       "      <th>PATIENT_ID</th>\n",
       "      <th>VAERS_ID</th>\n",
       "      <th>STATE</th>\n",
       "      <th>AGE_YRS</th>\n",
       "      <th>SEX</th>\n",
       "      <th>ALLERGIES</th>\n",
       "    </tr>\n",
       "  </thead>\n",
       "  <tbody>\n",
       "    <tr>\n",
       "      <th>0</th>\n",
       "      <td>871</td>\n",
       "      <td>733449</td>\n",
       "      <td>None</td>\n",
       "      <td>NaN</td>\n",
       "      <td>M</td>\n",
       "      <td>None</td>\n",
       "    </tr>\n",
       "    <tr>\n",
       "      <th>1</th>\n",
       "      <td>2428</td>\n",
       "      <td>735423</td>\n",
       "      <td>None</td>\n",
       "      <td>NaN</td>\n",
       "      <td>M</td>\n",
       "      <td>None</td>\n",
       "    </tr>\n",
       "    <tr>\n",
       "      <th>2</th>\n",
       "      <td>2699</td>\n",
       "      <td>735795</td>\n",
       "      <td>None</td>\n",
       "      <td>NaN</td>\n",
       "      <td>U</td>\n",
       "      <td>None</td>\n",
       "    </tr>\n",
       "    <tr>\n",
       "      <th>3</th>\n",
       "      <td>3023</td>\n",
       "      <td>736218</td>\n",
       "      <td>None</td>\n",
       "      <td>NaN</td>\n",
       "      <td>U</td>\n",
       "      <td>None</td>\n",
       "    </tr>\n",
       "    <tr>\n",
       "      <th>4</th>\n",
       "      <td>3193</td>\n",
       "      <td>736460</td>\n",
       "      <td>None</td>\n",
       "      <td>NaN</td>\n",
       "      <td>M</td>\n",
       "      <td>None</td>\n",
       "    </tr>\n",
       "    <tr>\n",
       "      <th>...</th>\n",
       "      <td>...</td>\n",
       "      <td>...</td>\n",
       "      <td>...</td>\n",
       "      <td>...</td>\n",
       "      <td>...</td>\n",
       "      <td>...</td>\n",
       "    </tr>\n",
       "    <tr>\n",
       "      <th>49160</th>\n",
       "      <td>30861</td>\n",
       "      <td>772806</td>\n",
       "      <td>WY</td>\n",
       "      <td>74.0</td>\n",
       "      <td>F</td>\n",
       "      <td>tegretol</td>\n",
       "    </tr>\n",
       "    <tr>\n",
       "      <th>49161</th>\n",
       "      <td>33041</td>\n",
       "      <td>775306</td>\n",
       "      <td>WY</td>\n",
       "      <td>75.0</td>\n",
       "      <td>F</td>\n",
       "      <td>no known allergies</td>\n",
       "    </tr>\n",
       "    <tr>\n",
       "      <th>49162</th>\n",
       "      <td>7228</td>\n",
       "      <td>742332</td>\n",
       "      <td>WY</td>\n",
       "      <td>77.0</td>\n",
       "      <td>U</td>\n",
       "      <td>None</td>\n",
       "    </tr>\n",
       "    <tr>\n",
       "      <th>49163</th>\n",
       "      <td>43629</td>\n",
       "      <td>787434</td>\n",
       "      <td>WY</td>\n",
       "      <td>79.0</td>\n",
       "      <td>U</td>\n",
       "      <td>None</td>\n",
       "    </tr>\n",
       "    <tr>\n",
       "      <th>49164</th>\n",
       "      <td>8261</td>\n",
       "      <td>743657</td>\n",
       "      <td>WY</td>\n",
       "      <td>79.0</td>\n",
       "      <td>F</td>\n",
       "      <td>None Known</td>\n",
       "    </tr>\n",
       "  </tbody>\n",
       "</table>\n",
       "<p>49165 rows × 6 columns</p>\n",
       "</div>"
      ],
      "text/plain": [
       "       PATIENT_ID  VAERS_ID STATE  AGE_YRS SEX           ALLERGIES\n",
       "0             871    733449  None      NaN   M                None\n",
       "1            2428    735423  None      NaN   M                None\n",
       "2            2699    735795  None      NaN   U                None\n",
       "3            3023    736218  None      NaN   U                None\n",
       "4            3193    736460  None      NaN   M                None\n",
       "...           ...       ...   ...      ...  ..                 ...\n",
       "49160       30861    772806    WY     74.0   F            tegretol\n",
       "49161       33041    775306    WY     75.0   F  no known allergies\n",
       "49162        7228    742332    WY     77.0   U                None\n",
       "49163       43629    787434    WY     79.0   U                None\n",
       "49164        8261    743657    WY     79.0   F          None Known\n",
       "\n",
       "[49165 rows x 6 columns]"
      ]
     },
     "execution_count": 2,
     "metadata": {},
     "output_type": "execute_result"
    }
   ],
   "source": [
    "%%bigquery\n",
    "select * from vaers_modeled.Patient"
   ]
  },
  {
   "cell_type": "markdown",
   "metadata": {},
   "source": [
    "#### Create Adverse_Event table"
   ]
  },
  {
   "cell_type": "code",
   "execution_count": 4,
   "metadata": {},
   "outputs": [
    {
     "data": {
      "text/html": [
       "<div>\n",
       "<style scoped>\n",
       "    .dataframe tbody tr th:only-of-type {\n",
       "        vertical-align: middle;\n",
       "    }\n",
       "\n",
       "    .dataframe tbody tr th {\n",
       "        vertical-align: top;\n",
       "    }\n",
       "\n",
       "    .dataframe thead th {\n",
       "        text-align: right;\n",
       "    }\n",
       "</style>\n",
       "<table border=\"1\" class=\"dataframe\">\n",
       "  <thead>\n",
       "    <tr style=\"text-align: right;\">\n",
       "      <th></th>\n",
       "    </tr>\n",
       "  </thead>\n",
       "  <tbody>\n",
       "  </tbody>\n",
       "</table>\n",
       "</div>"
      ],
      "text/plain": [
       "Empty DataFrame\n",
       "Columns: []\n",
       "Index: []"
      ]
     },
     "execution_count": 4,
     "metadata": {},
     "output_type": "execute_result"
    }
   ],
   "source": [
    "%%bigquery\n",
    "create or replace table vaers_modeled.Adverse_Event as\n",
    "select VAERS_ID, ONSET_DATE, RECOVD, DIED, DATEDIED, L_THREAT, OFC_VISIT, ER_VISIT, ER_ED_VISIT, HOSPITAL, HOSPDAYS, X_STAY, DISABLE, BIRTH_DEFECT, OTHER_MEDS, CUR_ILL, HISTORY, PRIOR_VAX \n",
    "from vaers_staging.Events"
   ]
  },
  {
   "cell_type": "code",
   "execution_count": 5,
   "metadata": {},
   "outputs": [
    {
     "data": {
      "text/html": [
       "<div>\n",
       "<style scoped>\n",
       "    .dataframe tbody tr th:only-of-type {\n",
       "        vertical-align: middle;\n",
       "    }\n",
       "\n",
       "    .dataframe tbody tr th {\n",
       "        vertical-align: top;\n",
       "    }\n",
       "\n",
       "    .dataframe thead th {\n",
       "        text-align: right;\n",
       "    }\n",
       "</style>\n",
       "<table border=\"1\" class=\"dataframe\">\n",
       "  <thead>\n",
       "    <tr style=\"text-align: right;\">\n",
       "      <th></th>\n",
       "      <th>VAERS_ID</th>\n",
       "      <th>ONSET_DATE</th>\n",
       "      <th>RECOVD</th>\n",
       "      <th>DIED</th>\n",
       "      <th>DATEDIED</th>\n",
       "      <th>L_THREAT</th>\n",
       "      <th>OFC_VISIT</th>\n",
       "      <th>ER_VISIT</th>\n",
       "      <th>ER_ED_VISIT</th>\n",
       "      <th>HOSPITAL</th>\n",
       "      <th>HOSPDAYS</th>\n",
       "      <th>X_STAY</th>\n",
       "      <th>DISABLE</th>\n",
       "      <th>BIRTH_DEFECT</th>\n",
       "      <th>OTHER_MEDS</th>\n",
       "      <th>CUR_ILL</th>\n",
       "      <th>HISTORY</th>\n",
       "      <th>PRIOR_VAX</th>\n",
       "    </tr>\n",
       "  </thead>\n",
       "  <tbody>\n",
       "    <tr>\n",
       "      <th>0</th>\n",
       "      <td>732483</td>\n",
       "      <td>None</td>\n",
       "      <td>U</td>\n",
       "      <td>None</td>\n",
       "      <td>None</td>\n",
       "      <td>None</td>\n",
       "      <td>None</td>\n",
       "      <td>None</td>\n",
       "      <td>None</td>\n",
       "      <td>None</td>\n",
       "      <td>NaN</td>\n",
       "      <td>None</td>\n",
       "      <td>None</td>\n",
       "      <td>None</td>\n",
       "      <td>None</td>\n",
       "      <td>None</td>\n",
       "      <td>None</td>\n",
       "      <td>None</td>\n",
       "    </tr>\n",
       "    <tr>\n",
       "      <th>1</th>\n",
       "      <td>733092</td>\n",
       "      <td>None</td>\n",
       "      <td>U</td>\n",
       "      <td>None</td>\n",
       "      <td>None</td>\n",
       "      <td>None</td>\n",
       "      <td>None</td>\n",
       "      <td>None</td>\n",
       "      <td>None</td>\n",
       "      <td>None</td>\n",
       "      <td>NaN</td>\n",
       "      <td>None</td>\n",
       "      <td>None</td>\n",
       "      <td>None</td>\n",
       "      <td>None</td>\n",
       "      <td>None</td>\n",
       "      <td>None</td>\n",
       "      <td>None</td>\n",
       "    </tr>\n",
       "    <tr>\n",
       "      <th>2</th>\n",
       "      <td>734264</td>\n",
       "      <td>None</td>\n",
       "      <td>N</td>\n",
       "      <td>None</td>\n",
       "      <td>None</td>\n",
       "      <td>None</td>\n",
       "      <td>True</td>\n",
       "      <td>None</td>\n",
       "      <td>None</td>\n",
       "      <td>None</td>\n",
       "      <td>NaN</td>\n",
       "      <td>None</td>\n",
       "      <td>None</td>\n",
       "      <td>None</td>\n",
       "      <td>None</td>\n",
       "      <td>None</td>\n",
       "      <td>None</td>\n",
       "      <td>None</td>\n",
       "    </tr>\n",
       "    <tr>\n",
       "      <th>3</th>\n",
       "      <td>734585</td>\n",
       "      <td>None</td>\n",
       "      <td>U</td>\n",
       "      <td>None</td>\n",
       "      <td>None</td>\n",
       "      <td>None</td>\n",
       "      <td>None</td>\n",
       "      <td>None</td>\n",
       "      <td>None</td>\n",
       "      <td>None</td>\n",
       "      <td>NaN</td>\n",
       "      <td>None</td>\n",
       "      <td>None</td>\n",
       "      <td>None</td>\n",
       "      <td>None</td>\n",
       "      <td>None</td>\n",
       "      <td>None</td>\n",
       "      <td>None</td>\n",
       "    </tr>\n",
       "    <tr>\n",
       "      <th>4</th>\n",
       "      <td>734883</td>\n",
       "      <td>None</td>\n",
       "      <td>U</td>\n",
       "      <td>None</td>\n",
       "      <td>None</td>\n",
       "      <td>None</td>\n",
       "      <td>None</td>\n",
       "      <td>None</td>\n",
       "      <td>None</td>\n",
       "      <td>None</td>\n",
       "      <td>NaN</td>\n",
       "      <td>None</td>\n",
       "      <td>None</td>\n",
       "      <td>None</td>\n",
       "      <td>STERILE DILUENT</td>\n",
       "      <td>None</td>\n",
       "      <td>None</td>\n",
       "      <td>None</td>\n",
       "    </tr>\n",
       "    <tr>\n",
       "      <th>...</th>\n",
       "      <td>...</td>\n",
       "      <td>...</td>\n",
       "      <td>...</td>\n",
       "      <td>...</td>\n",
       "      <td>...</td>\n",
       "      <td>...</td>\n",
       "      <td>...</td>\n",
       "      <td>...</td>\n",
       "      <td>...</td>\n",
       "      <td>...</td>\n",
       "      <td>...</td>\n",
       "      <td>...</td>\n",
       "      <td>...</td>\n",
       "      <td>...</td>\n",
       "      <td>...</td>\n",
       "      <td>...</td>\n",
       "      <td>...</td>\n",
       "      <td>...</td>\n",
       "    </tr>\n",
       "    <tr>\n",
       "      <th>49160</th>\n",
       "      <td>752214</td>\n",
       "      <td>2018-05-12</td>\n",
       "      <td>None</td>\n",
       "      <td>None</td>\n",
       "      <td>None</td>\n",
       "      <td>None</td>\n",
       "      <td>None</td>\n",
       "      <td>None</td>\n",
       "      <td>None</td>\n",
       "      <td>None</td>\n",
       "      <td>NaN</td>\n",
       "      <td>None</td>\n",
       "      <td>None</td>\n",
       "      <td>None</td>\n",
       "      <td>None</td>\n",
       "      <td>None. Routine follow up</td>\n",
       "      <td>Back pain; Bilat knee pain; HTN/hyperlipidemia...</td>\n",
       "      <td>None</td>\n",
       "    </tr>\n",
       "    <tr>\n",
       "      <th>49161</th>\n",
       "      <td>748671</td>\n",
       "      <td>2018-05-12</td>\n",
       "      <td>Y</td>\n",
       "      <td>None</td>\n",
       "      <td>None</td>\n",
       "      <td>None</td>\n",
       "      <td>None</td>\n",
       "      <td>None</td>\n",
       "      <td>None</td>\n",
       "      <td>None</td>\n",
       "      <td>NaN</td>\n",
       "      <td>None</td>\n",
       "      <td>None</td>\n",
       "      <td>None</td>\n",
       "      <td>COSAMIN DS; Aspirin</td>\n",
       "      <td>Stomach virus 3 weeks prior</td>\n",
       "      <td>Arthritis</td>\n",
       "      <td>None</td>\n",
       "    </tr>\n",
       "    <tr>\n",
       "      <th>49162</th>\n",
       "      <td>751451</td>\n",
       "      <td>2018-05-12</td>\n",
       "      <td>U</td>\n",
       "      <td>None</td>\n",
       "      <td>None</td>\n",
       "      <td>None</td>\n",
       "      <td>None</td>\n",
       "      <td>None</td>\n",
       "      <td>None</td>\n",
       "      <td>None</td>\n",
       "      <td>NaN</td>\n",
       "      <td>None</td>\n",
       "      <td>None</td>\n",
       "      <td>None</td>\n",
       "      <td>SINGULAIR; aspirin; multivitamin; fish oil</td>\n",
       "      <td>Upset stomach 2 days before</td>\n",
       "      <td>Asthma</td>\n",
       "      <td>None</td>\n",
       "    </tr>\n",
       "    <tr>\n",
       "      <th>49163</th>\n",
       "      <td>749668</td>\n",
       "      <td>2018-05-12</td>\n",
       "      <td>Y</td>\n",
       "      <td>None</td>\n",
       "      <td>None</td>\n",
       "      <td>None</td>\n",
       "      <td>None</td>\n",
       "      <td>None</td>\n",
       "      <td>None</td>\n",
       "      <td>None</td>\n",
       "      <td>NaN</td>\n",
       "      <td>None</td>\n",
       "      <td>None</td>\n",
       "      <td>None</td>\n",
       "      <td>XARELTO 20 MG PO QD SERTRALINE 100 MG PO QAM P...</td>\n",
       "      <td>Small rash prior to vaccination- not mentioned...</td>\n",
       "      <td>Unknown</td>\n",
       "      <td>None</td>\n",
       "    </tr>\n",
       "    <tr>\n",
       "      <th>49164</th>\n",
       "      <td>748667</td>\n",
       "      <td>2018-05-12</td>\n",
       "      <td>Y</td>\n",
       "      <td>None</td>\n",
       "      <td>None</td>\n",
       "      <td>None</td>\n",
       "      <td>None</td>\n",
       "      <td>None</td>\n",
       "      <td>None</td>\n",
       "      <td>None</td>\n",
       "      <td>NaN</td>\n",
       "      <td>None</td>\n",
       "      <td>None</td>\n",
       "      <td>None</td>\n",
       "      <td>None</td>\n",
       "      <td>Mother states that pt had a cold and a GI illn...</td>\n",
       "      <td>None</td>\n",
       "      <td>None</td>\n",
       "    </tr>\n",
       "  </tbody>\n",
       "</table>\n",
       "<p>49165 rows × 18 columns</p>\n",
       "</div>"
      ],
      "text/plain": [
       "       VAERS_ID  ONSET_DATE RECOVD  DIED DATEDIED L_THREAT OFC_VISIT ER_VISIT  \\\n",
       "0        732483        None      U  None     None     None      None     None   \n",
       "1        733092        None      U  None     None     None      None     None   \n",
       "2        734264        None      N  None     None     None      True     None   \n",
       "3        734585        None      U  None     None     None      None     None   \n",
       "4        734883        None      U  None     None     None      None     None   \n",
       "...         ...         ...    ...   ...      ...      ...       ...      ...   \n",
       "49160    752214  2018-05-12   None  None     None     None      None     None   \n",
       "49161    748671  2018-05-12      Y  None     None     None      None     None   \n",
       "49162    751451  2018-05-12      U  None     None     None      None     None   \n",
       "49163    749668  2018-05-12      Y  None     None     None      None     None   \n",
       "49164    748667  2018-05-12      Y  None     None     None      None     None   \n",
       "\n",
       "      ER_ED_VISIT HOSPITAL  HOSPDAYS X_STAY DISABLE BIRTH_DEFECT  \\\n",
       "0            None     None       NaN   None    None         None   \n",
       "1            None     None       NaN   None    None         None   \n",
       "2            None     None       NaN   None    None         None   \n",
       "3            None     None       NaN   None    None         None   \n",
       "4            None     None       NaN   None    None         None   \n",
       "...           ...      ...       ...    ...     ...          ...   \n",
       "49160        None     None       NaN   None    None         None   \n",
       "49161        None     None       NaN   None    None         None   \n",
       "49162        None     None       NaN   None    None         None   \n",
       "49163        None     None       NaN   None    None         None   \n",
       "49164        None     None       NaN   None    None         None   \n",
       "\n",
       "                                              OTHER_MEDS  \\\n",
       "0                                                   None   \n",
       "1                                                   None   \n",
       "2                                                   None   \n",
       "3                                                   None   \n",
       "4                                        STERILE DILUENT   \n",
       "...                                                  ...   \n",
       "49160                                               None   \n",
       "49161                                COSAMIN DS; Aspirin   \n",
       "49162         SINGULAIR; aspirin; multivitamin; fish oil   \n",
       "49163  XARELTO 20 MG PO QD SERTRALINE 100 MG PO QAM P...   \n",
       "49164                                               None   \n",
       "\n",
       "                                                 CUR_ILL  \\\n",
       "0                                                   None   \n",
       "1                                                   None   \n",
       "2                                                   None   \n",
       "3                                                   None   \n",
       "4                                                   None   \n",
       "...                                                  ...   \n",
       "49160                            None. Routine follow up   \n",
       "49161                        Stomach virus 3 weeks prior   \n",
       "49162                        Upset stomach 2 days before   \n",
       "49163  Small rash prior to vaccination- not mentioned...   \n",
       "49164  Mother states that pt had a cold and a GI illn...   \n",
       "\n",
       "                                                 HISTORY PRIOR_VAX  \n",
       "0                                                   None      None  \n",
       "1                                                   None      None  \n",
       "2                                                   None      None  \n",
       "3                                                   None      None  \n",
       "4                                                   None      None  \n",
       "...                                                  ...       ...  \n",
       "49160  Back pain; Bilat knee pain; HTN/hyperlipidemia...      None  \n",
       "49161                                          Arthritis      None  \n",
       "49162                                             Asthma      None  \n",
       "49163                                            Unknown      None  \n",
       "49164                                               None      None  \n",
       "\n",
       "[49165 rows x 18 columns]"
      ]
     },
     "execution_count": 5,
     "metadata": {},
     "output_type": "execute_result"
    }
   ],
   "source": [
    "%%bigquery\n",
    "select * from vaers_modeled.Adverse_Event"
   ]
  },
  {
   "cell_type": "markdown",
   "metadata": {},
   "source": [
    "### Generate Primary Key for Symptom table. No other changes made to table as Symptom is an entity by itself."
   ]
  },
  {
   "cell_type": "code",
   "execution_count": 8,
   "metadata": {},
   "outputs": [
    {
     "data": {
      "text/html": [
       "<div>\n",
       "<style scoped>\n",
       "    .dataframe tbody tr th:only-of-type {\n",
       "        vertical-align: middle;\n",
       "    }\n",
       "\n",
       "    .dataframe tbody tr th {\n",
       "        vertical-align: top;\n",
       "    }\n",
       "\n",
       "    .dataframe thead th {\n",
       "        text-align: right;\n",
       "    }\n",
       "</style>\n",
       "<table border=\"1\" class=\"dataframe\">\n",
       "  <thead>\n",
       "    <tr style=\"text-align: right;\">\n",
       "      <th></th>\n",
       "    </tr>\n",
       "  </thead>\n",
       "  <tbody>\n",
       "  </tbody>\n",
       "</table>\n",
       "</div>"
      ],
      "text/plain": [
       "Empty DataFrame\n",
       "Columns: []\n",
       "Index: []"
      ]
     },
     "execution_count": 8,
     "metadata": {},
     "output_type": "execute_result"
    }
   ],
   "source": [
    "%%bigquery\n",
    "create or replace table vaers_modeled.Symptom as\n",
    "select ROW_NUMBER() OVER(ORDER BY VAERS_ID) as SYMPTOM_ID, VAERS_ID, SYMPTOM1, SYMPTOM2, SYMPTOM3, SYMPTOM4, SYMPTOM5 \n",
    "from vaers_staging.Symptoms"
   ]
  },
  {
   "cell_type": "code",
   "execution_count": 9,
   "metadata": {},
   "outputs": [
    {
     "data": {
      "text/html": [
       "<div>\n",
       "<style scoped>\n",
       "    .dataframe tbody tr th:only-of-type {\n",
       "        vertical-align: middle;\n",
       "    }\n",
       "\n",
       "    .dataframe tbody tr th {\n",
       "        vertical-align: top;\n",
       "    }\n",
       "\n",
       "    .dataframe thead th {\n",
       "        text-align: right;\n",
       "    }\n",
       "</style>\n",
       "<table border=\"1\" class=\"dataframe\">\n",
       "  <thead>\n",
       "    <tr style=\"text-align: right;\">\n",
       "      <th></th>\n",
       "      <th>SYMPTOM_ID</th>\n",
       "      <th>VAERS_ID</th>\n",
       "      <th>SYMPTOM1</th>\n",
       "      <th>SYMPTOM2</th>\n",
       "      <th>SYMPTOM3</th>\n",
       "      <th>SYMPTOM4</th>\n",
       "      <th>SYMPTOM5</th>\n",
       "    </tr>\n",
       "  </thead>\n",
       "  <tbody>\n",
       "    <tr>\n",
       "      <th>0</th>\n",
       "      <td>17</td>\n",
       "      <td>732230</td>\n",
       "      <td>Drug administered at inappropriate site</td>\n",
       "      <td>Injected limb mobility decreased</td>\n",
       "      <td>Injection site pain</td>\n",
       "      <td>Pain</td>\n",
       "      <td>None</td>\n",
       "    </tr>\n",
       "    <tr>\n",
       "      <th>1</th>\n",
       "      <td>41</td>\n",
       "      <td>732299</td>\n",
       "      <td>Abdominal pain</td>\n",
       "      <td>Arthralgia</td>\n",
       "      <td>Blood thyroid stimulating hormone normal</td>\n",
       "      <td>C-reactive protein normal</td>\n",
       "      <td>Dizziness</td>\n",
       "    </tr>\n",
       "    <tr>\n",
       "      <th>2</th>\n",
       "      <td>140</td>\n",
       "      <td>732484</td>\n",
       "      <td>Chest discomfort</td>\n",
       "      <td>Dysgeusia</td>\n",
       "      <td>Dysphagia</td>\n",
       "      <td>Pain</td>\n",
       "      <td>None</td>\n",
       "    </tr>\n",
       "    <tr>\n",
       "      <th>3</th>\n",
       "      <td>218</td>\n",
       "      <td>732592</td>\n",
       "      <td>Autoimmune disorder</td>\n",
       "      <td>Crohn's disease</td>\n",
       "      <td>Iritis</td>\n",
       "      <td>Paraesthesia</td>\n",
       "      <td>None</td>\n",
       "    </tr>\n",
       "    <tr>\n",
       "      <th>4</th>\n",
       "      <td>418</td>\n",
       "      <td>732819</td>\n",
       "      <td>Cold sweat</td>\n",
       "      <td>Dizziness postural</td>\n",
       "      <td>Electrocardiogram normal</td>\n",
       "      <td>Eyelid injury</td>\n",
       "      <td>Feeling abnormal</td>\n",
       "    </tr>\n",
       "    <tr>\n",
       "      <th>...</th>\n",
       "      <td>...</td>\n",
       "      <td>...</td>\n",
       "      <td>...</td>\n",
       "      <td>...</td>\n",
       "      <td>...</td>\n",
       "      <td>...</td>\n",
       "      <td>...</td>\n",
       "    </tr>\n",
       "    <tr>\n",
       "      <th>60186</th>\n",
       "      <td>27786</td>\n",
       "      <td>762672</td>\n",
       "      <td>Injection site erythema</td>\n",
       "      <td>Injection site induration</td>\n",
       "      <td>Injection site warmth</td>\n",
       "      <td>None</td>\n",
       "      <td>None</td>\n",
       "    </tr>\n",
       "    <tr>\n",
       "      <th>60187</th>\n",
       "      <td>40713</td>\n",
       "      <td>775306</td>\n",
       "      <td>Injection site erythema</td>\n",
       "      <td>Injection site induration</td>\n",
       "      <td>Injection site warmth</td>\n",
       "      <td>None</td>\n",
       "      <td>None</td>\n",
       "    </tr>\n",
       "    <tr>\n",
       "      <th>60188</th>\n",
       "      <td>49596</td>\n",
       "      <td>783702</td>\n",
       "      <td>Injection site erythema</td>\n",
       "      <td>Injection site induration</td>\n",
       "      <td>Injection site mass</td>\n",
       "      <td>Injection site pain</td>\n",
       "      <td>Injection site swelling</td>\n",
       "    </tr>\n",
       "    <tr>\n",
       "      <th>60189</th>\n",
       "      <td>51879</td>\n",
       "      <td>785892</td>\n",
       "      <td>Injection site erythema</td>\n",
       "      <td>Injection site induration</td>\n",
       "      <td>Injection site warmth</td>\n",
       "      <td>None</td>\n",
       "      <td>None</td>\n",
       "    </tr>\n",
       "    <tr>\n",
       "      <th>60190</th>\n",
       "      <td>57406</td>\n",
       "      <td>791508</td>\n",
       "      <td>Injection site erythema</td>\n",
       "      <td>Injection site induration</td>\n",
       "      <td>Injection site nodule</td>\n",
       "      <td>Injection site reaction</td>\n",
       "      <td>None</td>\n",
       "    </tr>\n",
       "  </tbody>\n",
       "</table>\n",
       "<p>60191 rows × 7 columns</p>\n",
       "</div>"
      ],
      "text/plain": [
       "       SYMPTOM_ID  VAERS_ID                                 SYMPTOM1  \\\n",
       "0              17    732230  Drug administered at inappropriate site   \n",
       "1              41    732299                           Abdominal pain   \n",
       "2             140    732484                         Chest discomfort   \n",
       "3             218    732592                      Autoimmune disorder   \n",
       "4             418    732819                               Cold sweat   \n",
       "...           ...       ...                                      ...   \n",
       "60186       27786    762672                  Injection site erythema   \n",
       "60187       40713    775306                  Injection site erythema   \n",
       "60188       49596    783702                  Injection site erythema   \n",
       "60189       51879    785892                  Injection site erythema   \n",
       "60190       57406    791508                  Injection site erythema   \n",
       "\n",
       "                               SYMPTOM2  \\\n",
       "0      Injected limb mobility decreased   \n",
       "1                            Arthralgia   \n",
       "2                             Dysgeusia   \n",
       "3                       Crohn's disease   \n",
       "4                    Dizziness postural   \n",
       "...                                 ...   \n",
       "60186         Injection site induration   \n",
       "60187         Injection site induration   \n",
       "60188         Injection site induration   \n",
       "60189         Injection site induration   \n",
       "60190         Injection site induration   \n",
       "\n",
       "                                       SYMPTOM3                   SYMPTOM4  \\\n",
       "0                           Injection site pain                       Pain   \n",
       "1      Blood thyroid stimulating hormone normal  C-reactive protein normal   \n",
       "2                                     Dysphagia                       Pain   \n",
       "3                                        Iritis               Paraesthesia   \n",
       "4                      Electrocardiogram normal              Eyelid injury   \n",
       "...                                         ...                        ...   \n",
       "60186                     Injection site warmth                       None   \n",
       "60187                     Injection site warmth                       None   \n",
       "60188                       Injection site mass        Injection site pain   \n",
       "60189                     Injection site warmth                       None   \n",
       "60190                     Injection site nodule    Injection site reaction   \n",
       "\n",
       "                      SYMPTOM5  \n",
       "0                         None  \n",
       "1                    Dizziness  \n",
       "2                         None  \n",
       "3                         None  \n",
       "4             Feeling abnormal  \n",
       "...                        ...  \n",
       "60186                     None  \n",
       "60187                     None  \n",
       "60188  Injection site swelling  \n",
       "60189                     None  \n",
       "60190                     None  \n",
       "\n",
       "[60191 rows x 7 columns]"
      ]
     },
     "execution_count": 9,
     "metadata": {},
     "output_type": "execute_result"
    }
   ],
   "source": [
    "%%bigquery\n",
    "select * from vaers_modeled.Symptom"
   ]
  },
  {
   "cell_type": "markdown",
   "metadata": {},
   "source": [
    "### Split staging Vaccines table into separate entities: Vaccine and Manufacturer"
   ]
  },
  {
   "cell_type": "markdown",
   "metadata": {},
   "source": [
    "#### Create Vaccine table"
   ]
  },
  {
   "cell_type": "code",
   "execution_count": 10,
   "metadata": {},
   "outputs": [
    {
     "data": {
      "text/html": [
       "<div>\n",
       "<style scoped>\n",
       "    .dataframe tbody tr th:only-of-type {\n",
       "        vertical-align: middle;\n",
       "    }\n",
       "\n",
       "    .dataframe tbody tr th {\n",
       "        vertical-align: top;\n",
       "    }\n",
       "\n",
       "    .dataframe thead th {\n",
       "        text-align: right;\n",
       "    }\n",
       "</style>\n",
       "<table border=\"1\" class=\"dataframe\">\n",
       "  <thead>\n",
       "    <tr style=\"text-align: right;\">\n",
       "      <th></th>\n",
       "    </tr>\n",
       "  </thead>\n",
       "  <tbody>\n",
       "  </tbody>\n",
       "</table>\n",
       "</div>"
      ],
      "text/plain": [
       "Empty DataFrame\n",
       "Columns: []\n",
       "Index: []"
      ]
     },
     "execution_count": 10,
     "metadata": {},
     "output_type": "execute_result"
    }
   ],
   "source": [
    "%%bigquery\n",
    "create or replace table vaers_modeled.Vaccine as\n",
    "select ROW_NUMBER() OVER(ORDER BY VAX_NAME) as VAX_ID, VAX_NAME, VAX_TYPE\n",
    "from vaers_staging.Vaccines\n",
    "group by VAX_NAME, VAX_TYPE"
   ]
  },
  {
   "cell_type": "code",
   "execution_count": 11,
   "metadata": {},
   "outputs": [
    {
     "data": {
      "text/html": [
       "<div>\n",
       "<style scoped>\n",
       "    .dataframe tbody tr th:only-of-type {\n",
       "        vertical-align: middle;\n",
       "    }\n",
       "\n",
       "    .dataframe tbody tr th {\n",
       "        vertical-align: top;\n",
       "    }\n",
       "\n",
       "    .dataframe thead th {\n",
       "        text-align: right;\n",
       "    }\n",
       "</style>\n",
       "<table border=\"1\" class=\"dataframe\">\n",
       "  <thead>\n",
       "    <tr style=\"text-align: right;\">\n",
       "      <th></th>\n",
       "      <th>VAX_ID</th>\n",
       "      <th>VAX_NAME</th>\n",
       "      <th>VAX_TYPE</th>\n",
       "    </tr>\n",
       "  </thead>\n",
       "  <tbody>\n",
       "    <tr>\n",
       "      <th>0</th>\n",
       "      <td>1</td>\n",
       "      <td>ADENOVIRUS TYPES 4 &amp; 7, LIVE, ORAL (NO BRAND N...</td>\n",
       "      <td>ADEN_4_7</td>\n",
       "    </tr>\n",
       "    <tr>\n",
       "      <th>1</th>\n",
       "      <td>2</td>\n",
       "      <td>ANTHRAX (BIOTHRAX)</td>\n",
       "      <td>ANTH</td>\n",
       "    </tr>\n",
       "    <tr>\n",
       "      <th>2</th>\n",
       "      <td>3</td>\n",
       "      <td>ANTHRAX (NO BRAND NAME)</td>\n",
       "      <td>ANTH</td>\n",
       "    </tr>\n",
       "    <tr>\n",
       "      <th>3</th>\n",
       "      <td>4</td>\n",
       "      <td>BCG (NO BRAND NAME)</td>\n",
       "      <td>BCG</td>\n",
       "    </tr>\n",
       "    <tr>\n",
       "      <th>4</th>\n",
       "      <td>5</td>\n",
       "      <td>BCG (TICE)</td>\n",
       "      <td>BCG</td>\n",
       "    </tr>\n",
       "    <tr>\n",
       "      <th>...</th>\n",
       "      <td>...</td>\n",
       "      <td>...</td>\n",
       "      <td>...</td>\n",
       "    </tr>\n",
       "    <tr>\n",
       "      <th>127</th>\n",
       "      <td>128</td>\n",
       "      <td>YELLOW FEVER (STAMARIL)</td>\n",
       "      <td>YF</td>\n",
       "    </tr>\n",
       "    <tr>\n",
       "      <th>128</th>\n",
       "      <td>129</td>\n",
       "      <td>YELLOW FEVER (YF-VAX)</td>\n",
       "      <td>YF</td>\n",
       "    </tr>\n",
       "    <tr>\n",
       "      <th>129</th>\n",
       "      <td>130</td>\n",
       "      <td>ZOSTER (NO BRAND NAME)</td>\n",
       "      <td>VARZOS</td>\n",
       "    </tr>\n",
       "    <tr>\n",
       "      <th>130</th>\n",
       "      <td>131</td>\n",
       "      <td>ZOSTER (SHINGRIX)</td>\n",
       "      <td>VARZOS</td>\n",
       "    </tr>\n",
       "    <tr>\n",
       "      <th>131</th>\n",
       "      <td>132</td>\n",
       "      <td>ZOSTER LIVE (ZOSTAVAX)</td>\n",
       "      <td>VARZOS</td>\n",
       "    </tr>\n",
       "  </tbody>\n",
       "</table>\n",
       "<p>132 rows × 3 columns</p>\n",
       "</div>"
      ],
      "text/plain": [
       "     VAX_ID                                           VAX_NAME  VAX_TYPE\n",
       "0         1  ADENOVIRUS TYPES 4 & 7, LIVE, ORAL (NO BRAND N...  ADEN_4_7\n",
       "1         2                                 ANTHRAX (BIOTHRAX)      ANTH\n",
       "2         3                            ANTHRAX (NO BRAND NAME)      ANTH\n",
       "3         4                                BCG (NO BRAND NAME)       BCG\n",
       "4         5                                         BCG (TICE)       BCG\n",
       "..      ...                                                ...       ...\n",
       "127     128                            YELLOW FEVER (STAMARIL)        YF\n",
       "128     129                              YELLOW FEVER (YF-VAX)        YF\n",
       "129     130                             ZOSTER (NO BRAND NAME)    VARZOS\n",
       "130     131                                  ZOSTER (SHINGRIX)    VARZOS\n",
       "131     132                             ZOSTER LIVE (ZOSTAVAX)    VARZOS\n",
       "\n",
       "[132 rows x 3 columns]"
      ]
     },
     "execution_count": 11,
     "metadata": {},
     "output_type": "execute_result"
    }
   ],
   "source": [
    "%%bigquery\n",
    "select * from vaers_modeled.Vaccine\n",
    "order by VAX_NAME"
   ]
  },
  {
   "cell_type": "markdown",
   "metadata": {},
   "source": [
    "#### Create Manufacturer table"
   ]
  },
  {
   "cell_type": "code",
   "execution_count": 12,
   "metadata": {},
   "outputs": [
    {
     "data": {
      "text/html": [
       "<div>\n",
       "<style scoped>\n",
       "    .dataframe tbody tr th:only-of-type {\n",
       "        vertical-align: middle;\n",
       "    }\n",
       "\n",
       "    .dataframe tbody tr th {\n",
       "        vertical-align: top;\n",
       "    }\n",
       "\n",
       "    .dataframe thead th {\n",
       "        text-align: right;\n",
       "    }\n",
       "</style>\n",
       "<table border=\"1\" class=\"dataframe\">\n",
       "  <thead>\n",
       "    <tr style=\"text-align: right;\">\n",
       "      <th></th>\n",
       "    </tr>\n",
       "  </thead>\n",
       "  <tbody>\n",
       "  </tbody>\n",
       "</table>\n",
       "</div>"
      ],
      "text/plain": [
       "Empty DataFrame\n",
       "Columns: []\n",
       "Index: []"
      ]
     },
     "execution_count": 12,
     "metadata": {},
     "output_type": "execute_result"
    }
   ],
   "source": [
    "%%bigquery\n",
    "create or replace table vaers_modeled.Manufacturer as\n",
    "select ROW_NUMBER() OVER(ORDER BY VAX_MANU) as MANU_ID, VAX_MANU\n",
    "from vaers_staging.Vaccines\n",
    "group by VAX_MANU"
   ]
  },
  {
   "cell_type": "code",
   "execution_count": 13,
   "metadata": {},
   "outputs": [
    {
     "data": {
      "text/html": [
       "<div>\n",
       "<style scoped>\n",
       "    .dataframe tbody tr th:only-of-type {\n",
       "        vertical-align: middle;\n",
       "    }\n",
       "\n",
       "    .dataframe tbody tr th {\n",
       "        vertical-align: top;\n",
       "    }\n",
       "\n",
       "    .dataframe thead th {\n",
       "        text-align: right;\n",
       "    }\n",
       "</style>\n",
       "<table border=\"1\" class=\"dataframe\">\n",
       "  <thead>\n",
       "    <tr style=\"text-align: right;\">\n",
       "      <th></th>\n",
       "      <th>MANU_ID</th>\n",
       "      <th>VAX_MANU</th>\n",
       "    </tr>\n",
       "  </thead>\n",
       "  <tbody>\n",
       "    <tr>\n",
       "      <th>0</th>\n",
       "      <td>1</td>\n",
       "      <td>BERNA BIOTECH, LTD.</td>\n",
       "    </tr>\n",
       "    <tr>\n",
       "      <th>1</th>\n",
       "      <td>2</td>\n",
       "      <td>CONNAUGHT LTD.</td>\n",
       "    </tr>\n",
       "    <tr>\n",
       "      <th>2</th>\n",
       "      <td>3</td>\n",
       "      <td>CSL LIMITED</td>\n",
       "    </tr>\n",
       "    <tr>\n",
       "      <th>3</th>\n",
       "      <td>4</td>\n",
       "      <td>DYNAVAX TECHNOLOGIES CORPORATION</td>\n",
       "    </tr>\n",
       "    <tr>\n",
       "      <th>4</th>\n",
       "      <td>5</td>\n",
       "      <td>EMERGENT BIOSOLUTIONS</td>\n",
       "    </tr>\n",
       "    <tr>\n",
       "      <th>5</th>\n",
       "      <td>6</td>\n",
       "      <td>GLAXOSMITHKLINE BIOLOGICALS</td>\n",
       "    </tr>\n",
       "    <tr>\n",
       "      <th>6</th>\n",
       "      <td>7</td>\n",
       "      <td>INTERCELL AG</td>\n",
       "    </tr>\n",
       "    <tr>\n",
       "      <th>7</th>\n",
       "      <td>8</td>\n",
       "      <td>MASS. PUB HLTH BIOL LAB</td>\n",
       "    </tr>\n",
       "    <tr>\n",
       "      <th>8</th>\n",
       "      <td>9</td>\n",
       "      <td>MEDIMMUNE VACCINES, INC.</td>\n",
       "    </tr>\n",
       "    <tr>\n",
       "      <th>9</th>\n",
       "      <td>10</td>\n",
       "      <td>MERCK &amp; CO. INC.</td>\n",
       "    </tr>\n",
       "    <tr>\n",
       "      <th>10</th>\n",
       "      <td>11</td>\n",
       "      <td>MICHIGAN DEPT PUB HLTH</td>\n",
       "    </tr>\n",
       "    <tr>\n",
       "      <th>11</th>\n",
       "      <td>12</td>\n",
       "      <td>NOVARTIS VACCINES AND DIAGNOSTICS</td>\n",
       "    </tr>\n",
       "    <tr>\n",
       "      <th>12</th>\n",
       "      <td>13</td>\n",
       "      <td>ORGANON-TEKNIKA</td>\n",
       "    </tr>\n",
       "    <tr>\n",
       "      <th>13</th>\n",
       "      <td>14</td>\n",
       "      <td>PASTEUR MERIEUX INST.</td>\n",
       "    </tr>\n",
       "    <tr>\n",
       "      <th>14</th>\n",
       "      <td>15</td>\n",
       "      <td>PAXVAX</td>\n",
       "    </tr>\n",
       "    <tr>\n",
       "      <th>15</th>\n",
       "      <td>16</td>\n",
       "      <td>PFIZER\\WYETH</td>\n",
       "    </tr>\n",
       "    <tr>\n",
       "      <th>16</th>\n",
       "      <td>17</td>\n",
       "      <td>PROTEIN SCIENCES CORPORATION</td>\n",
       "    </tr>\n",
       "    <tr>\n",
       "      <th>17</th>\n",
       "      <td>18</td>\n",
       "      <td>SANOFI PASTEUR</td>\n",
       "    </tr>\n",
       "    <tr>\n",
       "      <th>18</th>\n",
       "      <td>19</td>\n",
       "      <td>SEQIRUS, INC.</td>\n",
       "    </tr>\n",
       "    <tr>\n",
       "      <th>19</th>\n",
       "      <td>20</td>\n",
       "      <td>SMITHKLINE BEECHAM</td>\n",
       "    </tr>\n",
       "    <tr>\n",
       "      <th>20</th>\n",
       "      <td>21</td>\n",
       "      <td>TEVA PHARMACEUTICALS</td>\n",
       "    </tr>\n",
       "    <tr>\n",
       "      <th>21</th>\n",
       "      <td>22</td>\n",
       "      <td>UNKNOWN MANUFACTURER</td>\n",
       "    </tr>\n",
       "  </tbody>\n",
       "</table>\n",
       "</div>"
      ],
      "text/plain": [
       "    MANU_ID                           VAX_MANU\n",
       "0         1                BERNA BIOTECH, LTD.\n",
       "1         2                     CONNAUGHT LTD.\n",
       "2         3                        CSL LIMITED\n",
       "3         4   DYNAVAX TECHNOLOGIES CORPORATION\n",
       "4         5              EMERGENT BIOSOLUTIONS\n",
       "5         6        GLAXOSMITHKLINE BIOLOGICALS\n",
       "6         7                       INTERCELL AG\n",
       "7         8            MASS. PUB HLTH BIOL LAB\n",
       "8         9           MEDIMMUNE VACCINES, INC.\n",
       "9        10                   MERCK & CO. INC.\n",
       "10       11             MICHIGAN DEPT PUB HLTH\n",
       "11       12  NOVARTIS VACCINES AND DIAGNOSTICS\n",
       "12       13                    ORGANON-TEKNIKA\n",
       "13       14              PASTEUR MERIEUX INST.\n",
       "14       15                             PAXVAX\n",
       "15       16                       PFIZER\\WYETH\n",
       "16       17       PROTEIN SCIENCES CORPORATION\n",
       "17       18                     SANOFI PASTEUR\n",
       "18       19                      SEQIRUS, INC.\n",
       "19       20                 SMITHKLINE BEECHAM\n",
       "20       21               TEVA PHARMACEUTICALS\n",
       "21       22               UNKNOWN MANUFACTURER"
      ]
     },
     "execution_count": 13,
     "metadata": {},
     "output_type": "execute_result"
    }
   ],
   "source": [
    "%%bigquery\n",
    "select * from vaers_modeled.Manufacturer\n",
    "order by VAX_MANU"
   ]
  },
  {
   "cell_type": "markdown",
   "metadata": {},
   "source": [
    "### Join attributes from staging Events, staging Vaccines, modeled Vaccine and modeled Manufacturer to form new entity: Vaccination"
   ]
  },
  {
   "cell_type": "markdown",
   "metadata": {},
   "source": [
    "#### The Vaccination table will also serve as the junction table for the modeled Vaccine and Manufacturer tables"
   ]
  },
  {
   "cell_type": "code",
   "execution_count": 14,
   "metadata": {},
   "outputs": [
    {
     "data": {
      "text/html": [
       "<div>\n",
       "<style scoped>\n",
       "    .dataframe tbody tr th:only-of-type {\n",
       "        vertical-align: middle;\n",
       "    }\n",
       "\n",
       "    .dataframe tbody tr th {\n",
       "        vertical-align: top;\n",
       "    }\n",
       "\n",
       "    .dataframe thead th {\n",
       "        text-align: right;\n",
       "    }\n",
       "</style>\n",
       "<table border=\"1\" class=\"dataframe\">\n",
       "  <thead>\n",
       "    <tr style=\"text-align: right;\">\n",
       "      <th></th>\n",
       "    </tr>\n",
       "  </thead>\n",
       "  <tbody>\n",
       "  </tbody>\n",
       "</table>\n",
       "</div>"
      ],
      "text/plain": [
       "Empty DataFrame\n",
       "Columns: []\n",
       "Index: []"
      ]
     },
     "execution_count": 14,
     "metadata": {},
     "output_type": "execute_result"
    }
   ],
   "source": [
    "%%bigquery\n",
    "create or replace table vaers_modeled.Vaccination as\n",
    "select ROW_NUMBER() OVER(ORDER BY e.VAERS_ID) as VACCINATION_ID, e.VAERS_ID, e.VAX_DATE, mv.VAX_ID, m.MANU_ID, e.V_ADMINBY, e.V_FUNDBY, v.VAX_ROUTE, v.VAX_SITE\n",
    "from (vaers_staging.Events e inner join vaers_staging.Vaccines v on e.VAERS_ID = v.VAERS_ID)\n",
    "    left join vaers_modeled.Vaccine mv on mv.VAX_NAME = v.VAX_NAME\n",
    "    left join vaers_modeled.Manufacturer m on m.VAX_MANU = v.VAX_MANU\n",
    "group by e.VAERS_ID, e.VAX_DATE, mv.VAX_ID, m.MANU_ID, e.V_ADMINBY, e.V_FUNDBY, v.VAX_ROUTE, v.VAX_SITE"
   ]
  },
  {
   "cell_type": "code",
   "execution_count": 15,
   "metadata": {},
   "outputs": [
    {
     "data": {
      "text/html": [
       "<div>\n",
       "<style scoped>\n",
       "    .dataframe tbody tr th:only-of-type {\n",
       "        vertical-align: middle;\n",
       "    }\n",
       "\n",
       "    .dataframe tbody tr th {\n",
       "        vertical-align: top;\n",
       "    }\n",
       "\n",
       "    .dataframe thead th {\n",
       "        text-align: right;\n",
       "    }\n",
       "</style>\n",
       "<table border=\"1\" class=\"dataframe\">\n",
       "  <thead>\n",
       "    <tr style=\"text-align: right;\">\n",
       "      <th></th>\n",
       "      <th>VACCINATION_ID</th>\n",
       "      <th>VAERS_ID</th>\n",
       "      <th>VAX_DATE</th>\n",
       "      <th>VAX_ID</th>\n",
       "      <th>MANU_ID</th>\n",
       "      <th>V_ADMINBY</th>\n",
       "      <th>V_FUNDBY</th>\n",
       "      <th>VAX_ROUTE</th>\n",
       "      <th>VAX_SITE</th>\n",
       "    </tr>\n",
       "  </thead>\n",
       "  <tbody>\n",
       "    <tr>\n",
       "      <th>0</th>\n",
       "      <td>1</td>\n",
       "      <td>732217</td>\n",
       "      <td>2017-12-05</td>\n",
       "      <td>122</td>\n",
       "      <td>22</td>\n",
       "      <td>PHM</td>\n",
       "      <td>None</td>\n",
       "      <td>None</td>\n",
       "      <td>None</td>\n",
       "    </tr>\n",
       "    <tr>\n",
       "      <th>1</th>\n",
       "      <td>73</td>\n",
       "      <td>732349</td>\n",
       "      <td>2017-09-19</td>\n",
       "      <td>87</td>\n",
       "      <td>22</td>\n",
       "      <td>UNK</td>\n",
       "      <td>None</td>\n",
       "      <td>UN</td>\n",
       "      <td>UN</td>\n",
       "    </tr>\n",
       "    <tr>\n",
       "      <th>2</th>\n",
       "      <td>90</td>\n",
       "      <td>732368</td>\n",
       "      <td>2017-06-21</td>\n",
       "      <td>27</td>\n",
       "      <td>22</td>\n",
       "      <td>PVT</td>\n",
       "      <td>None</td>\n",
       "      <td>SYR</td>\n",
       "      <td>LG</td>\n",
       "    </tr>\n",
       "    <tr>\n",
       "      <th>3</th>\n",
       "      <td>358</td>\n",
       "      <td>732701</td>\n",
       "      <td>2018-01-03</td>\n",
       "      <td>120</td>\n",
       "      <td>18</td>\n",
       "      <td>PUB</td>\n",
       "      <td>None</td>\n",
       "      <td>SYR</td>\n",
       "      <td>AR</td>\n",
       "    </tr>\n",
       "    <tr>\n",
       "      <th>4</th>\n",
       "      <td>1172</td>\n",
       "      <td>733508</td>\n",
       "      <td>2016-11-17</td>\n",
       "      <td>61</td>\n",
       "      <td>12</td>\n",
       "      <td>OTH</td>\n",
       "      <td>OTH</td>\n",
       "      <td>IM</td>\n",
       "      <td>UN</td>\n",
       "    </tr>\n",
       "    <tr>\n",
       "      <th>...</th>\n",
       "      <td>...</td>\n",
       "      <td>...</td>\n",
       "      <td>...</td>\n",
       "      <td>...</td>\n",
       "      <td>...</td>\n",
       "      <td>...</td>\n",
       "      <td>...</td>\n",
       "      <td>...</td>\n",
       "      <td>...</td>\n",
       "    </tr>\n",
       "    <tr>\n",
       "      <th>62332</th>\n",
       "      <td>58983</td>\n",
       "      <td>790935</td>\n",
       "      <td>None</td>\n",
       "      <td>132</td>\n",
       "      <td>10</td>\n",
       "      <td>PVT</td>\n",
       "      <td>None</td>\n",
       "      <td>UN</td>\n",
       "      <td>None</td>\n",
       "    </tr>\n",
       "    <tr>\n",
       "      <th>62333</th>\n",
       "      <td>60024</td>\n",
       "      <td>792025</td>\n",
       "      <td>None</td>\n",
       "      <td>132</td>\n",
       "      <td>10</td>\n",
       "      <td>PHM</td>\n",
       "      <td>None</td>\n",
       "      <td>UN</td>\n",
       "      <td>UN</td>\n",
       "    </tr>\n",
       "    <tr>\n",
       "      <th>62334</th>\n",
       "      <td>60214</td>\n",
       "      <td>792224</td>\n",
       "      <td>None</td>\n",
       "      <td>132</td>\n",
       "      <td>10</td>\n",
       "      <td>PUB</td>\n",
       "      <td>None</td>\n",
       "      <td>UN</td>\n",
       "      <td>UN</td>\n",
       "    </tr>\n",
       "    <tr>\n",
       "      <th>62335</th>\n",
       "      <td>60668</td>\n",
       "      <td>792692</td>\n",
       "      <td>None</td>\n",
       "      <td>132</td>\n",
       "      <td>10</td>\n",
       "      <td>OTH</td>\n",
       "      <td>None</td>\n",
       "      <td>UN</td>\n",
       "      <td>None</td>\n",
       "    </tr>\n",
       "    <tr>\n",
       "      <th>62336</th>\n",
       "      <td>61478</td>\n",
       "      <td>793529</td>\n",
       "      <td>None</td>\n",
       "      <td>132</td>\n",
       "      <td>10</td>\n",
       "      <td>PHM</td>\n",
       "      <td>None</td>\n",
       "      <td>UN</td>\n",
       "      <td>None</td>\n",
       "    </tr>\n",
       "  </tbody>\n",
       "</table>\n",
       "<p>62337 rows × 9 columns</p>\n",
       "</div>"
      ],
      "text/plain": [
       "       VACCINATION_ID  VAERS_ID    VAX_DATE  VAX_ID  MANU_ID V_ADMINBY  \\\n",
       "0                   1    732217  2017-12-05     122       22       PHM   \n",
       "1                  73    732349  2017-09-19      87       22       UNK   \n",
       "2                  90    732368  2017-06-21      27       22       PVT   \n",
       "3                 358    732701  2018-01-03     120       18       PUB   \n",
       "4                1172    733508  2016-11-17      61       12       OTH   \n",
       "...               ...       ...         ...     ...      ...       ...   \n",
       "62332           58983    790935        None     132       10       PVT   \n",
       "62333           60024    792025        None     132       10       PHM   \n",
       "62334           60214    792224        None     132       10       PUB   \n",
       "62335           60668    792692        None     132       10       OTH   \n",
       "62336           61478    793529        None     132       10       PHM   \n",
       "\n",
       "      V_FUNDBY VAX_ROUTE VAX_SITE  \n",
       "0         None      None     None  \n",
       "1         None        UN       UN  \n",
       "2         None       SYR       LG  \n",
       "3         None       SYR       AR  \n",
       "4          OTH        IM       UN  \n",
       "...        ...       ...      ...  \n",
       "62332     None        UN     None  \n",
       "62333     None        UN       UN  \n",
       "62334     None        UN       UN  \n",
       "62335     None        UN     None  \n",
       "62336     None        UN     None  \n",
       "\n",
       "[62337 rows x 9 columns]"
      ]
     },
     "execution_count": 15,
     "metadata": {},
     "output_type": "execute_result"
    }
   ],
   "source": [
    "%%bigquery\n",
    "select * from vaers_modeled.Vaccination "
   ]
  },
  {
   "cell_type": "markdown",
   "metadata": {},
   "source": [
    "### Identify Primary Key (PK) for each modeled table"
   ]
  },
  {
   "cell_type": "markdown",
   "metadata": {},
   "source": [
    "#### Patient table : PK is PATIENT_ID"
   ]
  },
  {
   "cell_type": "code",
   "execution_count": 16,
   "metadata": {},
   "outputs": [
    {
     "data": {
      "text/html": [
       "<div>\n",
       "<style scoped>\n",
       "    .dataframe tbody tr th:only-of-type {\n",
       "        vertical-align: middle;\n",
       "    }\n",
       "\n",
       "    .dataframe tbody tr th {\n",
       "        vertical-align: top;\n",
       "    }\n",
       "\n",
       "    .dataframe thead th {\n",
       "        text-align: right;\n",
       "    }\n",
       "</style>\n",
       "<table border=\"1\" class=\"dataframe\">\n",
       "  <thead>\n",
       "    <tr style=\"text-align: right;\">\n",
       "      <th></th>\n",
       "      <th>total_records</th>\n",
       "    </tr>\n",
       "  </thead>\n",
       "  <tbody>\n",
       "    <tr>\n",
       "      <th>0</th>\n",
       "      <td>49165</td>\n",
       "    </tr>\n",
       "  </tbody>\n",
       "</table>\n",
       "</div>"
      ],
      "text/plain": [
       "   total_records\n",
       "0          49165"
      ]
     },
     "execution_count": 16,
     "metadata": {},
     "output_type": "execute_result"
    }
   ],
   "source": [
    "%%bigquery\n",
    "select count(*) as total_records from vaers_modeled.Patient"
   ]
  },
  {
   "cell_type": "code",
   "execution_count": 17,
   "metadata": {},
   "outputs": [
    {
     "data": {
      "text/html": [
       "<div>\n",
       "<style scoped>\n",
       "    .dataframe tbody tr th:only-of-type {\n",
       "        vertical-align: middle;\n",
       "    }\n",
       "\n",
       "    .dataframe tbody tr th {\n",
       "        vertical-align: top;\n",
       "    }\n",
       "\n",
       "    .dataframe thead th {\n",
       "        text-align: right;\n",
       "    }\n",
       "</style>\n",
       "<table border=\"1\" class=\"dataframe\">\n",
       "  <thead>\n",
       "    <tr style=\"text-align: right;\">\n",
       "      <th></th>\n",
       "      <th>distinct_id</th>\n",
       "    </tr>\n",
       "  </thead>\n",
       "  <tbody>\n",
       "    <tr>\n",
       "      <th>0</th>\n",
       "      <td>49165</td>\n",
       "    </tr>\n",
       "  </tbody>\n",
       "</table>\n",
       "</div>"
      ],
      "text/plain": [
       "   distinct_id\n",
       "0        49165"
      ]
     },
     "execution_count": 17,
     "metadata": {},
     "output_type": "execute_result"
    }
   ],
   "source": [
    "%%bigquery\n",
    "select count(distinct PATIENT_ID) as distinct_id from vaers_modeled.Patient"
   ]
  },
  {
   "cell_type": "markdown",
   "metadata": {},
   "source": [
    "#### Adverse_Event table: PK is VAERS_ID"
   ]
  },
  {
   "cell_type": "code",
   "execution_count": 18,
   "metadata": {},
   "outputs": [
    {
     "data": {
      "text/html": [
       "<div>\n",
       "<style scoped>\n",
       "    .dataframe tbody tr th:only-of-type {\n",
       "        vertical-align: middle;\n",
       "    }\n",
       "\n",
       "    .dataframe tbody tr th {\n",
       "        vertical-align: top;\n",
       "    }\n",
       "\n",
       "    .dataframe thead th {\n",
       "        text-align: right;\n",
       "    }\n",
       "</style>\n",
       "<table border=\"1\" class=\"dataframe\">\n",
       "  <thead>\n",
       "    <tr style=\"text-align: right;\">\n",
       "      <th></th>\n",
       "      <th>total_records</th>\n",
       "    </tr>\n",
       "  </thead>\n",
       "  <tbody>\n",
       "    <tr>\n",
       "      <th>0</th>\n",
       "      <td>49165</td>\n",
       "    </tr>\n",
       "  </tbody>\n",
       "</table>\n",
       "</div>"
      ],
      "text/plain": [
       "   total_records\n",
       "0          49165"
      ]
     },
     "execution_count": 18,
     "metadata": {},
     "output_type": "execute_result"
    }
   ],
   "source": [
    "%%bigquery\n",
    "select count(*) as total_records from vaers_modeled.Adverse_Event"
   ]
  },
  {
   "cell_type": "code",
   "execution_count": 19,
   "metadata": {},
   "outputs": [
    {
     "data": {
      "text/html": [
       "<div>\n",
       "<style scoped>\n",
       "    .dataframe tbody tr th:only-of-type {\n",
       "        vertical-align: middle;\n",
       "    }\n",
       "\n",
       "    .dataframe tbody tr th {\n",
       "        vertical-align: top;\n",
       "    }\n",
       "\n",
       "    .dataframe thead th {\n",
       "        text-align: right;\n",
       "    }\n",
       "</style>\n",
       "<table border=\"1\" class=\"dataframe\">\n",
       "  <thead>\n",
       "    <tr style=\"text-align: right;\">\n",
       "      <th></th>\n",
       "      <th>distinct_id</th>\n",
       "    </tr>\n",
       "  </thead>\n",
       "  <tbody>\n",
       "    <tr>\n",
       "      <th>0</th>\n",
       "      <td>49165</td>\n",
       "    </tr>\n",
       "  </tbody>\n",
       "</table>\n",
       "</div>"
      ],
      "text/plain": [
       "   distinct_id\n",
       "0        49165"
      ]
     },
     "execution_count": 19,
     "metadata": {},
     "output_type": "execute_result"
    }
   ],
   "source": [
    "%%bigquery\n",
    "select count(distinct VAERS_ID) as distinct_id from vaers_modeled.Adverse_Event"
   ]
  },
  {
   "cell_type": "markdown",
   "metadata": {},
   "source": [
    "#### Symptom table: PK is SYMPTOM_ID"
   ]
  },
  {
   "cell_type": "code",
   "execution_count": 20,
   "metadata": {},
   "outputs": [
    {
     "data": {
      "text/html": [
       "<div>\n",
       "<style scoped>\n",
       "    .dataframe tbody tr th:only-of-type {\n",
       "        vertical-align: middle;\n",
       "    }\n",
       "\n",
       "    .dataframe tbody tr th {\n",
       "        vertical-align: top;\n",
       "    }\n",
       "\n",
       "    .dataframe thead th {\n",
       "        text-align: right;\n",
       "    }\n",
       "</style>\n",
       "<table border=\"1\" class=\"dataframe\">\n",
       "  <thead>\n",
       "    <tr style=\"text-align: right;\">\n",
       "      <th></th>\n",
       "      <th>total_records</th>\n",
       "    </tr>\n",
       "  </thead>\n",
       "  <tbody>\n",
       "    <tr>\n",
       "      <th>0</th>\n",
       "      <td>60191</td>\n",
       "    </tr>\n",
       "  </tbody>\n",
       "</table>\n",
       "</div>"
      ],
      "text/plain": [
       "   total_records\n",
       "0          60191"
      ]
     },
     "execution_count": 20,
     "metadata": {},
     "output_type": "execute_result"
    }
   ],
   "source": [
    "%%bigquery\n",
    "select count(*) as total_records from vaers_modeled.Symptom"
   ]
  },
  {
   "cell_type": "code",
   "execution_count": 21,
   "metadata": {},
   "outputs": [
    {
     "data": {
      "text/html": [
       "<div>\n",
       "<style scoped>\n",
       "    .dataframe tbody tr th:only-of-type {\n",
       "        vertical-align: middle;\n",
       "    }\n",
       "\n",
       "    .dataframe tbody tr th {\n",
       "        vertical-align: top;\n",
       "    }\n",
       "\n",
       "    .dataframe thead th {\n",
       "        text-align: right;\n",
       "    }\n",
       "</style>\n",
       "<table border=\"1\" class=\"dataframe\">\n",
       "  <thead>\n",
       "    <tr style=\"text-align: right;\">\n",
       "      <th></th>\n",
       "      <th>distinct_id</th>\n",
       "    </tr>\n",
       "  </thead>\n",
       "  <tbody>\n",
       "    <tr>\n",
       "      <th>0</th>\n",
       "      <td>60191</td>\n",
       "    </tr>\n",
       "  </tbody>\n",
       "</table>\n",
       "</div>"
      ],
      "text/plain": [
       "   distinct_id\n",
       "0        60191"
      ]
     },
     "execution_count": 21,
     "metadata": {},
     "output_type": "execute_result"
    }
   ],
   "source": [
    "%%bigquery\n",
    "select count(distinct SYMPTOM_ID) as distinct_id from vaers_modeled.Symptom"
   ]
  },
  {
   "cell_type": "markdown",
   "metadata": {},
   "source": [
    "#### Vaccine table: PK is VAX_ID"
   ]
  },
  {
   "cell_type": "code",
   "execution_count": 22,
   "metadata": {},
   "outputs": [
    {
     "data": {
      "text/html": [
       "<div>\n",
       "<style scoped>\n",
       "    .dataframe tbody tr th:only-of-type {\n",
       "        vertical-align: middle;\n",
       "    }\n",
       "\n",
       "    .dataframe tbody tr th {\n",
       "        vertical-align: top;\n",
       "    }\n",
       "\n",
       "    .dataframe thead th {\n",
       "        text-align: right;\n",
       "    }\n",
       "</style>\n",
       "<table border=\"1\" class=\"dataframe\">\n",
       "  <thead>\n",
       "    <tr style=\"text-align: right;\">\n",
       "      <th></th>\n",
       "      <th>total_records</th>\n",
       "    </tr>\n",
       "  </thead>\n",
       "  <tbody>\n",
       "    <tr>\n",
       "      <th>0</th>\n",
       "      <td>132</td>\n",
       "    </tr>\n",
       "  </tbody>\n",
       "</table>\n",
       "</div>"
      ],
      "text/plain": [
       "   total_records\n",
       "0            132"
      ]
     },
     "execution_count": 22,
     "metadata": {},
     "output_type": "execute_result"
    }
   ],
   "source": [
    "%%bigquery\n",
    "select count(*) as total_records from vaers_modeled.Vaccine"
   ]
  },
  {
   "cell_type": "code",
   "execution_count": 23,
   "metadata": {},
   "outputs": [
    {
     "data": {
      "text/html": [
       "<div>\n",
       "<style scoped>\n",
       "    .dataframe tbody tr th:only-of-type {\n",
       "        vertical-align: middle;\n",
       "    }\n",
       "\n",
       "    .dataframe tbody tr th {\n",
       "        vertical-align: top;\n",
       "    }\n",
       "\n",
       "    .dataframe thead th {\n",
       "        text-align: right;\n",
       "    }\n",
       "</style>\n",
       "<table border=\"1\" class=\"dataframe\">\n",
       "  <thead>\n",
       "    <tr style=\"text-align: right;\">\n",
       "      <th></th>\n",
       "      <th>distinct_id</th>\n",
       "    </tr>\n",
       "  </thead>\n",
       "  <tbody>\n",
       "    <tr>\n",
       "      <th>0</th>\n",
       "      <td>132</td>\n",
       "    </tr>\n",
       "  </tbody>\n",
       "</table>\n",
       "</div>"
      ],
      "text/plain": [
       "   distinct_id\n",
       "0          132"
      ]
     },
     "execution_count": 23,
     "metadata": {},
     "output_type": "execute_result"
    }
   ],
   "source": [
    "%%bigquery\n",
    "select count(distinct VAX_ID) as distinct_id from vaers_modeled.Vaccine"
   ]
  },
  {
   "cell_type": "markdown",
   "metadata": {},
   "source": [
    "#### Manufacturer table: PK is MANU_ID"
   ]
  },
  {
   "cell_type": "code",
   "execution_count": 24,
   "metadata": {},
   "outputs": [
    {
     "data": {
      "text/html": [
       "<div>\n",
       "<style scoped>\n",
       "    .dataframe tbody tr th:only-of-type {\n",
       "        vertical-align: middle;\n",
       "    }\n",
       "\n",
       "    .dataframe tbody tr th {\n",
       "        vertical-align: top;\n",
       "    }\n",
       "\n",
       "    .dataframe thead th {\n",
       "        text-align: right;\n",
       "    }\n",
       "</style>\n",
       "<table border=\"1\" class=\"dataframe\">\n",
       "  <thead>\n",
       "    <tr style=\"text-align: right;\">\n",
       "      <th></th>\n",
       "      <th>total_records</th>\n",
       "    </tr>\n",
       "  </thead>\n",
       "  <tbody>\n",
       "    <tr>\n",
       "      <th>0</th>\n",
       "      <td>22</td>\n",
       "    </tr>\n",
       "  </tbody>\n",
       "</table>\n",
       "</div>"
      ],
      "text/plain": [
       "   total_records\n",
       "0             22"
      ]
     },
     "execution_count": 24,
     "metadata": {},
     "output_type": "execute_result"
    }
   ],
   "source": [
    "%%bigquery\n",
    "select count(*) as total_records from vaers_modeled.Manufacturer"
   ]
  },
  {
   "cell_type": "code",
   "execution_count": 25,
   "metadata": {},
   "outputs": [
    {
     "data": {
      "text/html": [
       "<div>\n",
       "<style scoped>\n",
       "    .dataframe tbody tr th:only-of-type {\n",
       "        vertical-align: middle;\n",
       "    }\n",
       "\n",
       "    .dataframe tbody tr th {\n",
       "        vertical-align: top;\n",
       "    }\n",
       "\n",
       "    .dataframe thead th {\n",
       "        text-align: right;\n",
       "    }\n",
       "</style>\n",
       "<table border=\"1\" class=\"dataframe\">\n",
       "  <thead>\n",
       "    <tr style=\"text-align: right;\">\n",
       "      <th></th>\n",
       "      <th>distinct_id</th>\n",
       "    </tr>\n",
       "  </thead>\n",
       "  <tbody>\n",
       "    <tr>\n",
       "      <th>0</th>\n",
       "      <td>22</td>\n",
       "    </tr>\n",
       "  </tbody>\n",
       "</table>\n",
       "</div>"
      ],
      "text/plain": [
       "   distinct_id\n",
       "0           22"
      ]
     },
     "execution_count": 25,
     "metadata": {},
     "output_type": "execute_result"
    }
   ],
   "source": [
    "%%bigquery\n",
    "select count(distinct MANU_ID) as distinct_id from vaers_modeled.Manufacturer"
   ]
  },
  {
   "cell_type": "markdown",
   "metadata": {},
   "source": [
    "#### Vaccination table: PK is VACCINATION_ID"
   ]
  },
  {
   "cell_type": "code",
   "execution_count": 26,
   "metadata": {},
   "outputs": [
    {
     "data": {
      "text/html": [
       "<div>\n",
       "<style scoped>\n",
       "    .dataframe tbody tr th:only-of-type {\n",
       "        vertical-align: middle;\n",
       "    }\n",
       "\n",
       "    .dataframe tbody tr th {\n",
       "        vertical-align: top;\n",
       "    }\n",
       "\n",
       "    .dataframe thead th {\n",
       "        text-align: right;\n",
       "    }\n",
       "</style>\n",
       "<table border=\"1\" class=\"dataframe\">\n",
       "  <thead>\n",
       "    <tr style=\"text-align: right;\">\n",
       "      <th></th>\n",
       "      <th>total_records</th>\n",
       "    </tr>\n",
       "  </thead>\n",
       "  <tbody>\n",
       "    <tr>\n",
       "      <th>0</th>\n",
       "      <td>62337</td>\n",
       "    </tr>\n",
       "  </tbody>\n",
       "</table>\n",
       "</div>"
      ],
      "text/plain": [
       "   total_records\n",
       "0          62337"
      ]
     },
     "execution_count": 26,
     "metadata": {},
     "output_type": "execute_result"
    }
   ],
   "source": [
    "%%bigquery\n",
    "select count(*) as total_records from vaers_modeled.Vaccination"
   ]
  },
  {
   "cell_type": "code",
   "execution_count": 27,
   "metadata": {},
   "outputs": [
    {
     "data": {
      "text/html": [
       "<div>\n",
       "<style scoped>\n",
       "    .dataframe tbody tr th:only-of-type {\n",
       "        vertical-align: middle;\n",
       "    }\n",
       "\n",
       "    .dataframe tbody tr th {\n",
       "        vertical-align: top;\n",
       "    }\n",
       "\n",
       "    .dataframe thead th {\n",
       "        text-align: right;\n",
       "    }\n",
       "</style>\n",
       "<table border=\"1\" class=\"dataframe\">\n",
       "  <thead>\n",
       "    <tr style=\"text-align: right;\">\n",
       "      <th></th>\n",
       "      <th>distinct_id</th>\n",
       "    </tr>\n",
       "  </thead>\n",
       "  <tbody>\n",
       "    <tr>\n",
       "      <th>0</th>\n",
       "      <td>62337</td>\n",
       "    </tr>\n",
       "  </tbody>\n",
       "</table>\n",
       "</div>"
      ],
      "text/plain": [
       "   distinct_id\n",
       "0        62337"
      ]
     },
     "execution_count": 27,
     "metadata": {},
     "output_type": "execute_result"
    }
   ],
   "source": [
    "%%bigquery\n",
    "select count(distinct VACCINATION_ID) as distinct_id from vaers_modeled.Vaccination"
   ]
  },
  {
   "cell_type": "markdown",
   "metadata": {},
   "source": [
    "### Check for presence of duplicate records in each modeled table"
   ]
  },
  {
   "cell_type": "code",
   "execution_count": 28,
   "metadata": {},
   "outputs": [
    {
     "data": {
      "text/html": [
       "<div>\n",
       "<style scoped>\n",
       "    .dataframe tbody tr th:only-of-type {\n",
       "        vertical-align: middle;\n",
       "    }\n",
       "\n",
       "    .dataframe tbody tr th {\n",
       "        vertical-align: top;\n",
       "    }\n",
       "\n",
       "    .dataframe thead th {\n",
       "        text-align: right;\n",
       "    }\n",
       "</style>\n",
       "<table border=\"1\" class=\"dataframe\">\n",
       "  <thead>\n",
       "    <tr style=\"text-align: right;\">\n",
       "      <th></th>\n",
       "      <th>total_records</th>\n",
       "    </tr>\n",
       "  </thead>\n",
       "  <tbody>\n",
       "    <tr>\n",
       "      <th>0</th>\n",
       "      <td>49165</td>\n",
       "    </tr>\n",
       "  </tbody>\n",
       "</table>\n",
       "</div>"
      ],
      "text/plain": [
       "   total_records\n",
       "0          49165"
      ]
     },
     "execution_count": 28,
     "metadata": {},
     "output_type": "execute_result"
    }
   ],
   "source": [
    "%%bigquery\n",
    "select count(*) as total_records from vaers_modeled.Patient"
   ]
  },
  {
   "cell_type": "code",
   "execution_count": 29,
   "metadata": {},
   "outputs": [
    {
     "data": {
      "text/html": [
       "<div>\n",
       "<style scoped>\n",
       "    .dataframe tbody tr th:only-of-type {\n",
       "        vertical-align: middle;\n",
       "    }\n",
       "\n",
       "    .dataframe tbody tr th {\n",
       "        vertical-align: top;\n",
       "    }\n",
       "\n",
       "    .dataframe thead th {\n",
       "        text-align: right;\n",
       "    }\n",
       "</style>\n",
       "<table border=\"1\" class=\"dataframe\">\n",
       "  <thead>\n",
       "    <tr style=\"text-align: right;\">\n",
       "      <th></th>\n",
       "      <th>distinct_records</th>\n",
       "    </tr>\n",
       "  </thead>\n",
       "  <tbody>\n",
       "    <tr>\n",
       "      <th>0</th>\n",
       "      <td>49165</td>\n",
       "    </tr>\n",
       "  </tbody>\n",
       "</table>\n",
       "</div>"
      ],
      "text/plain": [
       "   distinct_records\n",
       "0             49165"
      ]
     },
     "execution_count": 29,
     "metadata": {},
     "output_type": "execute_result"
    }
   ],
   "source": [
    "%%bigquery\n",
    "SELECT COUNT(*) as distinct_records FROM (SELECT DISTINCT * FROM vaers_modeled.Patient) "
   ]
  },
  {
   "cell_type": "code",
   "execution_count": 30,
   "metadata": {},
   "outputs": [
    {
     "data": {
      "text/html": [
       "<div>\n",
       "<style scoped>\n",
       "    .dataframe tbody tr th:only-of-type {\n",
       "        vertical-align: middle;\n",
       "    }\n",
       "\n",
       "    .dataframe tbody tr th {\n",
       "        vertical-align: top;\n",
       "    }\n",
       "\n",
       "    .dataframe thead th {\n",
       "        text-align: right;\n",
       "    }\n",
       "</style>\n",
       "<table border=\"1\" class=\"dataframe\">\n",
       "  <thead>\n",
       "    <tr style=\"text-align: right;\">\n",
       "      <th></th>\n",
       "      <th>total_records</th>\n",
       "    </tr>\n",
       "  </thead>\n",
       "  <tbody>\n",
       "    <tr>\n",
       "      <th>0</th>\n",
       "      <td>49165</td>\n",
       "    </tr>\n",
       "  </tbody>\n",
       "</table>\n",
       "</div>"
      ],
      "text/plain": [
       "   total_records\n",
       "0          49165"
      ]
     },
     "execution_count": 30,
     "metadata": {},
     "output_type": "execute_result"
    }
   ],
   "source": [
    "%%bigquery\n",
    "select count(*) as total_records from vaers_modeled.Adverse_Event"
   ]
  },
  {
   "cell_type": "code",
   "execution_count": 31,
   "metadata": {},
   "outputs": [
    {
     "data": {
      "text/html": [
       "<div>\n",
       "<style scoped>\n",
       "    .dataframe tbody tr th:only-of-type {\n",
       "        vertical-align: middle;\n",
       "    }\n",
       "\n",
       "    .dataframe tbody tr th {\n",
       "        vertical-align: top;\n",
       "    }\n",
       "\n",
       "    .dataframe thead th {\n",
       "        text-align: right;\n",
       "    }\n",
       "</style>\n",
       "<table border=\"1\" class=\"dataframe\">\n",
       "  <thead>\n",
       "    <tr style=\"text-align: right;\">\n",
       "      <th></th>\n",
       "      <th>distinct_records</th>\n",
       "    </tr>\n",
       "  </thead>\n",
       "  <tbody>\n",
       "    <tr>\n",
       "      <th>0</th>\n",
       "      <td>49165</td>\n",
       "    </tr>\n",
       "  </tbody>\n",
       "</table>\n",
       "</div>"
      ],
      "text/plain": [
       "   distinct_records\n",
       "0             49165"
      ]
     },
     "execution_count": 31,
     "metadata": {},
     "output_type": "execute_result"
    }
   ],
   "source": [
    "%%bigquery\n",
    "SELECT COUNT(*) as distinct_records FROM (SELECT DISTINCT * FROM vaers_modeled.Adverse_Event) "
   ]
  },
  {
   "cell_type": "code",
   "execution_count": 32,
   "metadata": {},
   "outputs": [
    {
     "data": {
      "text/html": [
       "<div>\n",
       "<style scoped>\n",
       "    .dataframe tbody tr th:only-of-type {\n",
       "        vertical-align: middle;\n",
       "    }\n",
       "\n",
       "    .dataframe tbody tr th {\n",
       "        vertical-align: top;\n",
       "    }\n",
       "\n",
       "    .dataframe thead th {\n",
       "        text-align: right;\n",
       "    }\n",
       "</style>\n",
       "<table border=\"1\" class=\"dataframe\">\n",
       "  <thead>\n",
       "    <tr style=\"text-align: right;\">\n",
       "      <th></th>\n",
       "      <th>total_records</th>\n",
       "    </tr>\n",
       "  </thead>\n",
       "  <tbody>\n",
       "    <tr>\n",
       "      <th>0</th>\n",
       "      <td>60191</td>\n",
       "    </tr>\n",
       "  </tbody>\n",
       "</table>\n",
       "</div>"
      ],
      "text/plain": [
       "   total_records\n",
       "0          60191"
      ]
     },
     "execution_count": 32,
     "metadata": {},
     "output_type": "execute_result"
    }
   ],
   "source": [
    "%%bigquery\n",
    "select count(*) as total_records from vaers_modeled.Symptom"
   ]
  },
  {
   "cell_type": "code",
   "execution_count": 33,
   "metadata": {},
   "outputs": [
    {
     "data": {
      "text/html": [
       "<div>\n",
       "<style scoped>\n",
       "    .dataframe tbody tr th:only-of-type {\n",
       "        vertical-align: middle;\n",
       "    }\n",
       "\n",
       "    .dataframe tbody tr th {\n",
       "        vertical-align: top;\n",
       "    }\n",
       "\n",
       "    .dataframe thead th {\n",
       "        text-align: right;\n",
       "    }\n",
       "</style>\n",
       "<table border=\"1\" class=\"dataframe\">\n",
       "  <thead>\n",
       "    <tr style=\"text-align: right;\">\n",
       "      <th></th>\n",
       "      <th>distinct_records</th>\n",
       "    </tr>\n",
       "  </thead>\n",
       "  <tbody>\n",
       "    <tr>\n",
       "      <th>0</th>\n",
       "      <td>60191</td>\n",
       "    </tr>\n",
       "  </tbody>\n",
       "</table>\n",
       "</div>"
      ],
      "text/plain": [
       "   distinct_records\n",
       "0             60191"
      ]
     },
     "execution_count": 33,
     "metadata": {},
     "output_type": "execute_result"
    }
   ],
   "source": [
    "%%bigquery\n",
    "SELECT COUNT(*) as distinct_records FROM (SELECT DISTINCT * FROM vaers_modeled.Symptom) "
   ]
  },
  {
   "cell_type": "code",
   "execution_count": 34,
   "metadata": {},
   "outputs": [
    {
     "data": {
      "text/html": [
       "<div>\n",
       "<style scoped>\n",
       "    .dataframe tbody tr th:only-of-type {\n",
       "        vertical-align: middle;\n",
       "    }\n",
       "\n",
       "    .dataframe tbody tr th {\n",
       "        vertical-align: top;\n",
       "    }\n",
       "\n",
       "    .dataframe thead th {\n",
       "        text-align: right;\n",
       "    }\n",
       "</style>\n",
       "<table border=\"1\" class=\"dataframe\">\n",
       "  <thead>\n",
       "    <tr style=\"text-align: right;\">\n",
       "      <th></th>\n",
       "      <th>total_records</th>\n",
       "    </tr>\n",
       "  </thead>\n",
       "  <tbody>\n",
       "    <tr>\n",
       "      <th>0</th>\n",
       "      <td>132</td>\n",
       "    </tr>\n",
       "  </tbody>\n",
       "</table>\n",
       "</div>"
      ],
      "text/plain": [
       "   total_records\n",
       "0            132"
      ]
     },
     "execution_count": 34,
     "metadata": {},
     "output_type": "execute_result"
    }
   ],
   "source": [
    "%%bigquery\n",
    "select count(*) as total_records from vaers_modeled.Vaccine"
   ]
  },
  {
   "cell_type": "code",
   "execution_count": 35,
   "metadata": {},
   "outputs": [
    {
     "data": {
      "text/html": [
       "<div>\n",
       "<style scoped>\n",
       "    .dataframe tbody tr th:only-of-type {\n",
       "        vertical-align: middle;\n",
       "    }\n",
       "\n",
       "    .dataframe tbody tr th {\n",
       "        vertical-align: top;\n",
       "    }\n",
       "\n",
       "    .dataframe thead th {\n",
       "        text-align: right;\n",
       "    }\n",
       "</style>\n",
       "<table border=\"1\" class=\"dataframe\">\n",
       "  <thead>\n",
       "    <tr style=\"text-align: right;\">\n",
       "      <th></th>\n",
       "      <th>distinct_records</th>\n",
       "    </tr>\n",
       "  </thead>\n",
       "  <tbody>\n",
       "    <tr>\n",
       "      <th>0</th>\n",
       "      <td>132</td>\n",
       "    </tr>\n",
       "  </tbody>\n",
       "</table>\n",
       "</div>"
      ],
      "text/plain": [
       "   distinct_records\n",
       "0               132"
      ]
     },
     "execution_count": 35,
     "metadata": {},
     "output_type": "execute_result"
    }
   ],
   "source": [
    "%%bigquery\n",
    "SELECT COUNT(*) as distinct_records FROM (SELECT DISTINCT * FROM vaers_modeled.Vaccine) "
   ]
  },
  {
   "cell_type": "code",
   "execution_count": 36,
   "metadata": {},
   "outputs": [
    {
     "data": {
      "text/html": [
       "<div>\n",
       "<style scoped>\n",
       "    .dataframe tbody tr th:only-of-type {\n",
       "        vertical-align: middle;\n",
       "    }\n",
       "\n",
       "    .dataframe tbody tr th {\n",
       "        vertical-align: top;\n",
       "    }\n",
       "\n",
       "    .dataframe thead th {\n",
       "        text-align: right;\n",
       "    }\n",
       "</style>\n",
       "<table border=\"1\" class=\"dataframe\">\n",
       "  <thead>\n",
       "    <tr style=\"text-align: right;\">\n",
       "      <th></th>\n",
       "      <th>total_records</th>\n",
       "    </tr>\n",
       "  </thead>\n",
       "  <tbody>\n",
       "    <tr>\n",
       "      <th>0</th>\n",
       "      <td>22</td>\n",
       "    </tr>\n",
       "  </tbody>\n",
       "</table>\n",
       "</div>"
      ],
      "text/plain": [
       "   total_records\n",
       "0             22"
      ]
     },
     "execution_count": 36,
     "metadata": {},
     "output_type": "execute_result"
    }
   ],
   "source": [
    "%%bigquery\n",
    "select count(*) as total_records from vaers_modeled.Manufacturer"
   ]
  },
  {
   "cell_type": "code",
   "execution_count": 37,
   "metadata": {},
   "outputs": [
    {
     "data": {
      "text/html": [
       "<div>\n",
       "<style scoped>\n",
       "    .dataframe tbody tr th:only-of-type {\n",
       "        vertical-align: middle;\n",
       "    }\n",
       "\n",
       "    .dataframe tbody tr th {\n",
       "        vertical-align: top;\n",
       "    }\n",
       "\n",
       "    .dataframe thead th {\n",
       "        text-align: right;\n",
       "    }\n",
       "</style>\n",
       "<table border=\"1\" class=\"dataframe\">\n",
       "  <thead>\n",
       "    <tr style=\"text-align: right;\">\n",
       "      <th></th>\n",
       "      <th>distinct_records</th>\n",
       "    </tr>\n",
       "  </thead>\n",
       "  <tbody>\n",
       "    <tr>\n",
       "      <th>0</th>\n",
       "      <td>22</td>\n",
       "    </tr>\n",
       "  </tbody>\n",
       "</table>\n",
       "</div>"
      ],
      "text/plain": [
       "   distinct_records\n",
       "0                22"
      ]
     },
     "execution_count": 37,
     "metadata": {},
     "output_type": "execute_result"
    }
   ],
   "source": [
    "%%bigquery\n",
    "SELECT COUNT(*) as distinct_records FROM (SELECT DISTINCT * FROM vaers_modeled.Manufacturer) "
   ]
  },
  {
   "cell_type": "code",
   "execution_count": 38,
   "metadata": {},
   "outputs": [
    {
     "data": {
      "text/html": [
       "<div>\n",
       "<style scoped>\n",
       "    .dataframe tbody tr th:only-of-type {\n",
       "        vertical-align: middle;\n",
       "    }\n",
       "\n",
       "    .dataframe tbody tr th {\n",
       "        vertical-align: top;\n",
       "    }\n",
       "\n",
       "    .dataframe thead th {\n",
       "        text-align: right;\n",
       "    }\n",
       "</style>\n",
       "<table border=\"1\" class=\"dataframe\">\n",
       "  <thead>\n",
       "    <tr style=\"text-align: right;\">\n",
       "      <th></th>\n",
       "      <th>total_records</th>\n",
       "    </tr>\n",
       "  </thead>\n",
       "  <tbody>\n",
       "    <tr>\n",
       "      <th>0</th>\n",
       "      <td>62337</td>\n",
       "    </tr>\n",
       "  </tbody>\n",
       "</table>\n",
       "</div>"
      ],
      "text/plain": [
       "   total_records\n",
       "0          62337"
      ]
     },
     "execution_count": 38,
     "metadata": {},
     "output_type": "execute_result"
    }
   ],
   "source": [
    "%%bigquery\n",
    "select count(*) as total_records from vaers_modeled.Vaccination"
   ]
  },
  {
   "cell_type": "code",
   "execution_count": 39,
   "metadata": {},
   "outputs": [
    {
     "data": {
      "text/html": [
       "<div>\n",
       "<style scoped>\n",
       "    .dataframe tbody tr th:only-of-type {\n",
       "        vertical-align: middle;\n",
       "    }\n",
       "\n",
       "    .dataframe tbody tr th {\n",
       "        vertical-align: top;\n",
       "    }\n",
       "\n",
       "    .dataframe thead th {\n",
       "        text-align: right;\n",
       "    }\n",
       "</style>\n",
       "<table border=\"1\" class=\"dataframe\">\n",
       "  <thead>\n",
       "    <tr style=\"text-align: right;\">\n",
       "      <th></th>\n",
       "      <th>distinct_records</th>\n",
       "    </tr>\n",
       "  </thead>\n",
       "  <tbody>\n",
       "    <tr>\n",
       "      <th>0</th>\n",
       "      <td>62337</td>\n",
       "    </tr>\n",
       "  </tbody>\n",
       "</table>\n",
       "</div>"
      ],
      "text/plain": [
       "   distinct_records\n",
       "0             62337"
      ]
     },
     "execution_count": 39,
     "metadata": {},
     "output_type": "execute_result"
    }
   ],
   "source": [
    "%%bigquery\n",
    "SELECT COUNT(*) as distinct_records FROM (SELECT DISTINCT * FROM vaers_modeled.Vaccination) "
   ]
  },
  {
   "cell_type": "markdown",
   "metadata": {},
   "source": [
    "### >> No duplicates found on all modeled tables"
   ]
  },
  {
   "cell_type": "markdown",
   "metadata": {},
   "source": [
    "### Check for referential integrity violations "
   ]
  },
  {
   "cell_type": "code",
   "execution_count": 40,
   "metadata": {},
   "outputs": [
    {
     "data": {
      "text/html": [
       "<div>\n",
       "<style scoped>\n",
       "    .dataframe tbody tr th:only-of-type {\n",
       "        vertical-align: middle;\n",
       "    }\n",
       "\n",
       "    .dataframe tbody tr th {\n",
       "        vertical-align: top;\n",
       "    }\n",
       "\n",
       "    .dataframe thead th {\n",
       "        text-align: right;\n",
       "    }\n",
       "</style>\n",
       "<table border=\"1\" class=\"dataframe\">\n",
       "  <thead>\n",
       "    <tr style=\"text-align: right;\">\n",
       "      <th></th>\n",
       "      <th>count_of_missing_PK</th>\n",
       "    </tr>\n",
       "  </thead>\n",
       "  <tbody>\n",
       "    <tr>\n",
       "      <th>0</th>\n",
       "      <td>0</td>\n",
       "    </tr>\n",
       "  </tbody>\n",
       "</table>\n",
       "</div>"
      ],
      "text/plain": [
       "   count_of_missing_PK\n",
       "0                    0"
      ]
     },
     "execution_count": 40,
     "metadata": {},
     "output_type": "execute_result"
    }
   ],
   "source": [
    "%%bigquery\n",
    "select count(*) as count_of_missing_PK \n",
    "from vaers_modeled.Patient p left join vaers_modeled.Adverse_Event e on e.VAERS_ID = p.VAERS_ID \n",
    "where e.VAERS_ID is null "
   ]
  },
  {
   "cell_type": "code",
   "execution_count": 41,
   "metadata": {},
   "outputs": [
    {
     "data": {
      "text/html": [
       "<div>\n",
       "<style scoped>\n",
       "    .dataframe tbody tr th:only-of-type {\n",
       "        vertical-align: middle;\n",
       "    }\n",
       "\n",
       "    .dataframe tbody tr th {\n",
       "        vertical-align: top;\n",
       "    }\n",
       "\n",
       "    .dataframe thead th {\n",
       "        text-align: right;\n",
       "    }\n",
       "</style>\n",
       "<table border=\"1\" class=\"dataframe\">\n",
       "  <thead>\n",
       "    <tr style=\"text-align: right;\">\n",
       "      <th></th>\n",
       "      <th>count_of_missing_PK</th>\n",
       "    </tr>\n",
       "  </thead>\n",
       "  <tbody>\n",
       "    <tr>\n",
       "      <th>0</th>\n",
       "      <td>0</td>\n",
       "    </tr>\n",
       "  </tbody>\n",
       "</table>\n",
       "</div>"
      ],
      "text/plain": [
       "   count_of_missing_PK\n",
       "0                    0"
      ]
     },
     "execution_count": 41,
     "metadata": {},
     "output_type": "execute_result"
    }
   ],
   "source": [
    "%%bigquery\n",
    "select count(*) as count_of_missing_PK \n",
    "from vaers_modeled.Symptom s left join vaers_modeled.Adverse_Event e on e.VAERS_ID = s.VAERS_ID \n",
    "where e.VAERS_ID is null "
   ]
  },
  {
   "cell_type": "code",
   "execution_count": 42,
   "metadata": {},
   "outputs": [
    {
     "data": {
      "text/html": [
       "<div>\n",
       "<style scoped>\n",
       "    .dataframe tbody tr th:only-of-type {\n",
       "        vertical-align: middle;\n",
       "    }\n",
       "\n",
       "    .dataframe tbody tr th {\n",
       "        vertical-align: top;\n",
       "    }\n",
       "\n",
       "    .dataframe thead th {\n",
       "        text-align: right;\n",
       "    }\n",
       "</style>\n",
       "<table border=\"1\" class=\"dataframe\">\n",
       "  <thead>\n",
       "    <tr style=\"text-align: right;\">\n",
       "      <th></th>\n",
       "      <th>count_of_missing_PK</th>\n",
       "    </tr>\n",
       "  </thead>\n",
       "  <tbody>\n",
       "    <tr>\n",
       "      <th>0</th>\n",
       "      <td>0</td>\n",
       "    </tr>\n",
       "  </tbody>\n",
       "</table>\n",
       "</div>"
      ],
      "text/plain": [
       "   count_of_missing_PK\n",
       "0                    0"
      ]
     },
     "execution_count": 42,
     "metadata": {},
     "output_type": "execute_result"
    }
   ],
   "source": [
    "%%bigquery\n",
    "select count(*) as count_of_missing_PK \n",
    "from vaers_modeled.Vaccination v left join vaers_modeled.Adverse_Event e on e.VAERS_ID = v.VAERS_ID \n",
    "where e.VAERS_ID is null "
   ]
  },
  {
   "cell_type": "code",
   "execution_count": 43,
   "metadata": {},
   "outputs": [
    {
     "data": {
      "text/html": [
       "<div>\n",
       "<style scoped>\n",
       "    .dataframe tbody tr th:only-of-type {\n",
       "        vertical-align: middle;\n",
       "    }\n",
       "\n",
       "    .dataframe tbody tr th {\n",
       "        vertical-align: top;\n",
       "    }\n",
       "\n",
       "    .dataframe thead th {\n",
       "        text-align: right;\n",
       "    }\n",
       "</style>\n",
       "<table border=\"1\" class=\"dataframe\">\n",
       "  <thead>\n",
       "    <tr style=\"text-align: right;\">\n",
       "      <th></th>\n",
       "      <th>count_of_missing_PK</th>\n",
       "    </tr>\n",
       "  </thead>\n",
       "  <tbody>\n",
       "    <tr>\n",
       "      <th>0</th>\n",
       "      <td>0</td>\n",
       "    </tr>\n",
       "  </tbody>\n",
       "</table>\n",
       "</div>"
      ],
      "text/plain": [
       "   count_of_missing_PK\n",
       "0                    0"
      ]
     },
     "execution_count": 43,
     "metadata": {},
     "output_type": "execute_result"
    }
   ],
   "source": [
    "%%bigquery\n",
    "select count(*) as count_of_missing_PK \n",
    "from vaers_modeled.Vaccination vt left join vaers_modeled.Vaccine v on vt.VAX_ID = v.VAX_ID \n",
    "where v.VAX_ID is null "
   ]
  },
  {
   "cell_type": "code",
   "execution_count": 44,
   "metadata": {},
   "outputs": [
    {
     "data": {
      "text/html": [
       "<div>\n",
       "<style scoped>\n",
       "    .dataframe tbody tr th:only-of-type {\n",
       "        vertical-align: middle;\n",
       "    }\n",
       "\n",
       "    .dataframe tbody tr th {\n",
       "        vertical-align: top;\n",
       "    }\n",
       "\n",
       "    .dataframe thead th {\n",
       "        text-align: right;\n",
       "    }\n",
       "</style>\n",
       "<table border=\"1\" class=\"dataframe\">\n",
       "  <thead>\n",
       "    <tr style=\"text-align: right;\">\n",
       "      <th></th>\n",
       "      <th>count_of_missing_PK</th>\n",
       "    </tr>\n",
       "  </thead>\n",
       "  <tbody>\n",
       "    <tr>\n",
       "      <th>0</th>\n",
       "      <td>0</td>\n",
       "    </tr>\n",
       "  </tbody>\n",
       "</table>\n",
       "</div>"
      ],
      "text/plain": [
       "   count_of_missing_PK\n",
       "0                    0"
      ]
     },
     "execution_count": 44,
     "metadata": {},
     "output_type": "execute_result"
    }
   ],
   "source": [
    "%%bigquery\n",
    "select count(*) as count_of_missing_PK \n",
    "from vaers_modeled.Vaccination vt left join vaers_modeled.Manufacturer m on vt.MANU_ID = m.MANU_ID \n",
    "where m.MANU_ID is null "
   ]
  },
  {
   "cell_type": "markdown",
   "metadata": {},
   "source": [
    "### >> No referential integrity violations on all modeled tables"
   ]
  },
  {
   "cell_type": "markdown",
   "metadata": {},
   "source": [
    "## Beam pipeline"
   ]
  },
  {
   "cell_type": "markdown",
   "metadata": {},
   "source": [
    "### Standardize data in Adverse_Event table using Beam pipeline (Direct Runner)"
   ]
  },
  {
   "cell_type": "code",
   "execution_count": 45,
   "metadata": {
    "collapsed": true,
    "jupyter": {
     "outputs_hidden": true
    }
   },
   "outputs": [
    {
     "name": "stderr",
     "output_type": "stream",
     "text": [
      "WARNING:apache_beam.runners.interactive.interactive_environment:Interactive Beam requires Python 3.5.3+.\n",
      "WARNING:apache_beam.runners.interactive.interactive_environment:Dependencies required for Interactive Beam PCollection visualization are not available, please use: `pip install apache-beam[interactive]` to install necessary dependencies to enable all data visualization features.\n",
      "/home/jupyter/venv/lib/python3.5/site-packages/apache_beam/io/gcp/bigquery.py:1421: BeamDeprecationWarning: options is deprecated since First stable release. References to <pipeline>.options will not be supported\n",
      "  experiments = p.options.view_as(DebugOptions).experiments or []\n",
      "INFO:apache_beam.runners.direct.direct_runner:Running pipeline with DirectRunner.\n",
      "INFO:apache_beam.internal.gcp.auth:Setting socket default timeout to 60 seconds.\n",
      "INFO:apache_beam.internal.gcp.auth:socket default timeout is 60.0 seconds.\n",
      "INFO:oauth2client.transport:Attempting refresh to obtain initial access_token\n",
      "INFO:apache_beam.io.gcp.bigquery_tools:Using location 'US' from table <TableReference\n",
      " datasetId: 'vaers_modeled'\n",
      " projectId: 'studied-brand-266702'\n",
      " tableId: 'Adverse_Event'> referenced by query SELECT * FROM vaers_modeled.Adverse_Event limit 50\n",
      "WARNING:apache_beam.io.gcp.bigquery_tools:Dataset studied-brand-266702:temp_dataset_381790eaa13d4df988da16d1cc8c01e4 does not exist so we will create it as temporary with location=US\n"
     ]
    },
    {
     "name": "stdout",
     "output_type": "stream",
     "text": [
      "Current RECOVD:  N\n",
      "New RECOVD:  False\n",
      "Current RECOVD:  U\n",
      "New RECOVD:  None\n",
      "Current RECOVD:  U\n",
      "New RECOVD:  None\n",
      "Current RECOVD:  U\n",
      "New RECOVD:  None\n",
      "Current RECOVD:  U\n",
      "New RECOVD:  None\n",
      "Current RECOVD:  U\n",
      "New RECOVD:  None\n",
      "Current RECOVD:  U\n",
      "New RECOVD:  None\n",
      "Current RECOVD:  U\n",
      "New RECOVD:  None\n",
      "Current RECOVD:  U\n",
      "New RECOVD:  None\n",
      "Current RECOVD:  U\n",
      "New RECOVD:  None\n",
      "Current RECOVD:  U\n",
      "New RECOVD:  None\n",
      "Current RECOVD:  U\n",
      "New RECOVD:  None\n",
      "Current RECOVD:  U\n",
      "New RECOVD:  None\n",
      "Current RECOVD:  U\n",
      "New RECOVD:  None\n",
      "Current RECOVD:  U\n",
      "New RECOVD:  None\n",
      "Current RECOVD:  U\n",
      "New RECOVD:  None\n",
      "Current RECOVD:  U\n",
      "New RECOVD:  None\n",
      "Current RECOVD:  U\n",
      "New RECOVD:  None\n",
      "Current RECOVD:  U\n",
      "New RECOVD:  None\n",
      "Current RECOVD:  U\n",
      "New RECOVD:  None\n",
      "Current RECOVD:  U\n",
      "New RECOVD:  None\n",
      "Current RECOVD:  U\n",
      "New RECOVD:  None\n",
      "Current RECOVD:  U\n",
      "New RECOVD:  None\n",
      "Current RECOVD:  U\n",
      "New RECOVD:  None\n",
      "Current RECOVD:  U\n",
      "New RECOVD:  None\n",
      "Current RECOVD:  U\n",
      "New RECOVD:  None\n",
      "Current RECOVD:  U\n",
      "New RECOVD:  None\n",
      "Current RECOVD:  U\n",
      "New RECOVD:  None\n",
      "Current RECOVD:  U\n",
      "New RECOVD:  None\n",
      "Current RECOVD:  U\n",
      "New RECOVD:  None\n",
      "Current RECOVD:  U\n",
      "New RECOVD:  None\n",
      "Current RECOVD:  U\n",
      "New RECOVD:  None\n",
      "Current RECOVD:  U\n",
      "New RECOVD:  None\n",
      "Current RECOVD:  U\n",
      "New RECOVD:  None\n",
      "Current RECOVD:  U\n",
      "New RECOVD:  None\n",
      "Current RECOVD:  U\n",
      "New RECOVD:  None\n",
      "Current RECOVD:  U\n",
      "New RECOVD:  None\n",
      "Current RECOVD:  U\n",
      "New RECOVD:  None\n",
      "Current RECOVD:  U\n",
      "New RECOVD:  None\n",
      "Current RECOVD:  Y\n",
      "New RECOVD:  True\n",
      "Current RECOVD:  Y\n",
      "New RECOVD:  True\n",
      "Current RECOVD:  Y\n",
      "New RECOVD:  True\n",
      "Current RECOVD:  N\n",
      "New RECOVD:  False\n",
      "Current RECOVD:  N\n",
      "New RECOVD:  False\n",
      "Current RECOVD:  N\n",
      "New RECOVD:  False\n",
      "Current RECOVD:  N\n",
      "New RECOVD:  False\n",
      "Current RECOVD:  N\n",
      "New RECOVD:  False\n",
      "Current RECOVD:  N\n",
      "New RECOVD:  False\n",
      "Current RECOVD:  N\n",
      "New RECOVD:  False\n",
      "Current RECOVD:  U\n",
      "New RECOVD:  None\n",
      "Current BIRTH_DEFECT:  None\n",
      "New BIRTH_DEFECT:  False\n",
      "Current BIRTH_DEFECT:  None\n",
      "New BIRTH_DEFECT:  False\n",
      "Current BIRTH_DEFECT:  None\n",
      "New BIRTH_DEFECT:  False\n",
      "Current BIRTH_DEFECT:  None\n",
      "New BIRTH_DEFECT:  False\n",
      "Current BIRTH_DEFECT:  None\n",
      "New BIRTH_DEFECT:  False\n",
      "Current BIRTH_DEFECT:  None\n",
      "New BIRTH_DEFECT:  False\n",
      "Current BIRTH_DEFECT:  None\n",
      "New BIRTH_DEFECT:  False\n",
      "Current BIRTH_DEFECT:  None\n",
      "New BIRTH_DEFECT:  False\n",
      "Current BIRTH_DEFECT:  None\n",
      "New BIRTH_DEFECT:  False\n",
      "Current BIRTH_DEFECT:  None\n",
      "New BIRTH_DEFECT:  False\n",
      "Current BIRTH_DEFECT:  None\n",
      "New BIRTH_DEFECT:  False\n",
      "Current BIRTH_DEFECT:  None\n",
      "New BIRTH_DEFECT:  False\n",
      "Current BIRTH_DEFECT:  None\n",
      "New BIRTH_DEFECT:  False\n",
      "Current BIRTH_DEFECT:  None\n",
      "New BIRTH_DEFECT:  False\n",
      "Current BIRTH_DEFECT:  None\n",
      "New BIRTH_DEFECT:  False\n",
      "Current BIRTH_DEFECT:  None\n",
      "New BIRTH_DEFECT:  False\n",
      "Current BIRTH_DEFECT:  None\n",
      "New BIRTH_DEFECT:  False\n",
      "Current BIRTH_DEFECT:  None\n",
      "New BIRTH_DEFECT:  False\n",
      "Current BIRTH_DEFECT:  None\n",
      "New BIRTH_DEFECT:  False\n",
      "Current BIRTH_DEFECT:  None\n",
      "New BIRTH_DEFECT:  False\n",
      "Current BIRTH_DEFECT:  None\n",
      "New BIRTH_DEFECT:  False\n",
      "Current BIRTH_DEFECT:  None\n",
      "New BIRTH_DEFECT:  False\n",
      "Current BIRTH_DEFECT:  None\n",
      "New BIRTH_DEFECT:  False\n",
      "Current BIRTH_DEFECT:  None\n",
      "New BIRTH_DEFECT:  False\n",
      "Current BIRTH_DEFECT:  None\n",
      "New BIRTH_DEFECT:  False\n",
      "Current BIRTH_DEFECT:  None\n",
      "New BIRTH_DEFECT:  False\n",
      "Current BIRTH_DEFECT:  None\n",
      "New BIRTH_DEFECT:  False\n",
      "Current BIRTH_DEFECT:  None\n",
      "New BIRTH_DEFECT:  False\n",
      "Current BIRTH_DEFECT:  None\n",
      "New BIRTH_DEFECT:  False\n",
      "Current BIRTH_DEFECT:  None\n",
      "New BIRTH_DEFECT:  False\n",
      "Current BIRTH_DEFECT:  None\n",
      "New BIRTH_DEFECT:  False\n",
      "Current BIRTH_DEFECT:  None\n",
      "New BIRTH_DEFECT:  False\n",
      "Current BIRTH_DEFECT:  None\n",
      "New BIRTH_DEFECT:  False\n",
      "Current BIRTH_DEFECT:  None\n",
      "New BIRTH_DEFECT:  False\n",
      "Current BIRTH_DEFECT:  None\n",
      "New BIRTH_DEFECT:  False\n",
      "Current BIRTH_DEFECT:  None\n",
      "New BIRTH_DEFECT:  False\n",
      "Current BIRTH_DEFECT:  None\n",
      "New BIRTH_DEFECT:  False\n",
      "Current BIRTH_DEFECT:  None\n",
      "New BIRTH_DEFECT:  False\n",
      "Current BIRTH_DEFECT:  None\n",
      "New BIRTH_DEFECT:  False\n",
      "Current BIRTH_DEFECT:  None\n",
      "New BIRTH_DEFECT:  False\n",
      "Current BIRTH_DEFECT:  None\n",
      "New BIRTH_DEFECT:  False\n",
      "Current BIRTH_DEFECT:  None\n",
      "New BIRTH_DEFECT:  False\n",
      "Current BIRTH_DEFECT:  None\n",
      "New BIRTH_DEFECT:  False\n",
      "Current BIRTH_DEFECT:  None\n",
      "New BIRTH_DEFECT:  False\n",
      "Current BIRTH_DEFECT:  None\n",
      "New BIRTH_DEFECT:  False\n",
      "Current BIRTH_DEFECT:  None\n",
      "New BIRTH_DEFECT:  False\n",
      "Current BIRTH_DEFECT:  None\n",
      "New BIRTH_DEFECT:  False\n",
      "Current BIRTH_DEFECT:  None\n",
      "New BIRTH_DEFECT:  False\n",
      "Current BIRTH_DEFECT:  None\n",
      "New BIRTH_DEFECT:  False\n",
      "Current BIRTH_DEFECT:  None\n",
      "New BIRTH_DEFECT:  False\n",
      "Current DIED:  None\n",
      "New DIED:  False\n",
      "Current DIED:  None\n",
      "New DIED:  False\n",
      "Current DIED:  None\n",
      "New DIED:  False\n",
      "Current DIED:  None\n",
      "New DIED:  False\n",
      "Current DIED:  None\n",
      "New DIED:  False\n",
      "Current DIED:  None\n",
      "New DIED:  False\n",
      "Current DIED:  None\n",
      "New DIED:  False\n",
      "Current DIED:  None\n",
      "New DIED:  False\n",
      "Current DIED:  None\n",
      "New DIED:  False\n",
      "Current DIED:  None\n",
      "New DIED:  False\n",
      "Current DIED:  None\n",
      "New DIED:  False\n",
      "Current DIED:  None\n",
      "New DIED:  False\n",
      "Current DIED:  None\n",
      "New DIED:  False\n",
      "Current DIED:  None\n",
      "New DIED:  False\n",
      "Current DIED:  None\n",
      "New DIED:  False\n",
      "Current DIED:  None\n",
      "New DIED:  False\n",
      "Current DIED:  None\n",
      "New DIED:  False\n",
      "Current DIED:  None\n",
      "New DIED:  False\n",
      "Current DIED:  None\n",
      "New DIED:  False\n",
      "Current DIED:  None\n",
      "New DIED:  False\n",
      "Current DIED:  None\n",
      "New DIED:  False\n",
      "Current DIED:  None\n",
      "New DIED:  False\n",
      "Current DIED:  None\n",
      "New DIED:  False\n",
      "Current DIED:  None\n",
      "New DIED:  False\n",
      "Current DIED:  None\n",
      "New DIED:  False\n",
      "Current DIED:  None\n",
      "New DIED:  False\n",
      "Current DIED:  None\n",
      "New DIED:  False\n",
      "Current DIED:  None\n",
      "New DIED:  False\n",
      "Current DIED:  None\n",
      "New DIED:  False\n",
      "Current DIED:  None\n",
      "New DIED:  False\n",
      "Current DIED:  None\n",
      "New DIED:  False\n",
      "Current DIED:  None\n",
      "New DIED:  False\n",
      "Current DIED:  None\n",
      "New DIED:  False\n",
      "Current DIED:  None\n",
      "New DIED:  False\n",
      "Current DIED:  None\n",
      "New DIED:  False\n",
      "Current DIED:  None\n",
      "New DIED:  False\n",
      "Current DIED:  None\n",
      "New DIED:  False\n",
      "Current DIED:  None\n",
      "New DIED:  False\n",
      "Current DIED:  None\n",
      "New DIED:  False\n",
      "Current DIED:  None\n",
      "New DIED:  False\n",
      "Current DIED:  None\n",
      "New DIED:  False\n",
      "Current DIED:  None\n",
      "New DIED:  False\n",
      "Current DIED:  None\n",
      "New DIED:  False\n",
      "Current DIED:  None\n",
      "New DIED:  False\n",
      "Current DIED:  None\n",
      "New DIED:  False\n",
      "Current DIED:  None\n",
      "New DIED:  False\n",
      "Current DIED:  None\n",
      "New DIED:  False\n",
      "Current DIED:  None\n",
      "New DIED:  False\n",
      "Current DIED:  None\n",
      "New DIED:  False\n",
      "Current DIED:  None\n",
      "New DIED:  False\n"
     ]
    },
    {
     "name": "stderr",
     "output_type": "stream",
     "text": [
      "INFO:apache_beam.io.filebasedsink:Starting finalize_write threads with num_shards: 1 (skipped: 0), batches: 1, num_threads: 1\n",
      "INFO:apache_beam.io.filebasedsink:Renamed 1 shards in 0.11 seconds.\n",
      "INFO:apache_beam.io.filebasedsink:Starting finalize_write threads with num_shards: 1 (skipped: 0), batches: 1, num_threads: 1\n",
      "INFO:apache_beam.io.filebasedsink:Renamed 1 shards in 0.10 seconds.\n",
      "INFO:apache_beam.io.filebasedsink:Starting finalize_write threads with num_shards: 1 (skipped: 0), batches: 1, num_threads: 1\n",
      "INFO:apache_beam.io.filebasedsink:Renamed 1 shards in 0.10 seconds.\n",
      "INFO:apache_beam.io.filebasedsink:Starting finalize_write threads with num_shards: 1 (skipped: 0), batches: 1, num_threads: 1\n",
      "INFO:apache_beam.io.filebasedsink:Renamed 1 shards in 0.11 seconds.\n",
      "INFO:apache_beam.io.gcp.bigquery_tools:Created table studied-brand-266702.vaers_modeled.Adverse_Event_Beam with schema <TableSchema\n",
      " fields: [<TableFieldSchema\n",
      " fields: []\n",
      " mode: 'NULLABLE'\n",
      " name: 'VAERS_ID'\n",
      " type: 'INTEGER'>, <TableFieldSchema\n",
      " fields: []\n",
      " mode: 'NULLABLE'\n",
      " name: 'ONSET_DATE'\n",
      " type: 'DATE'>, <TableFieldSchema\n",
      " fields: []\n",
      " mode: 'NULLABLE'\n",
      " name: 'RECOVD'\n",
      " type: 'BOOLEAN'>, <TableFieldSchema\n",
      " fields: []\n",
      " mode: 'NULLABLE'\n",
      " name: 'DIED'\n",
      " type: 'BOOLEAN'>, <TableFieldSchema\n",
      " fields: []\n",
      " mode: 'NULLABLE'\n",
      " name: 'DATEDIED'\n",
      " type: 'DATE'>, <TableFieldSchema\n",
      " fields: []\n",
      " mode: 'NULLABLE'\n",
      " name: 'L_THREAT'\n",
      " type: 'BOOLEAN'>, <TableFieldSchema\n",
      " fields: []\n",
      " mode: 'NULLABLE'\n",
      " name: 'OFC_VISIT'\n",
      " type: 'BOOLEAN'>, <TableFieldSchema\n",
      " fields: []\n",
      " mode: 'NULLABLE'\n",
      " name: 'ER_VISIT'\n",
      " type: 'BOOLEAN'>, <TableFieldSchema\n",
      " fields: []\n",
      " mode: 'NULLABLE'\n",
      " name: 'ER_ED_VISIT'\n",
      " type: 'BOOLEAN'>, <TableFieldSchema\n",
      " fields: []\n",
      " mode: 'NULLABLE'\n",
      " name: 'HOSPITAL'\n",
      " type: 'BOOLEAN'>, <TableFieldSchema\n",
      " fields: []\n",
      " mode: 'NULLABLE'\n",
      " name: 'HOSPDAYS'\n",
      " type: 'INTEGER'>, <TableFieldSchema\n",
      " fields: []\n",
      " mode: 'NULLABLE'\n",
      " name: 'X_STAY'\n",
      " type: 'BOOLEAN'>, <TableFieldSchema\n",
      " fields: []\n",
      " mode: 'NULLABLE'\n",
      " name: 'DISABLE'\n",
      " type: 'BOOLEAN'>, <TableFieldSchema\n",
      " fields: []\n",
      " mode: 'NULLABLE'\n",
      " name: 'BIRTH_DEFECT'\n",
      " type: 'BOOLEAN'>, <TableFieldSchema\n",
      " fields: []\n",
      " mode: 'NULLABLE'\n",
      " name: 'OTHER_MEDS'\n",
      " type: 'STRING'>, <TableFieldSchema\n",
      " fields: []\n",
      " mode: 'NULLABLE'\n",
      " name: 'CUR_ILL'\n",
      " type: 'STRING'>, <TableFieldSchema\n",
      " fields: []\n",
      " mode: 'NULLABLE'\n",
      " name: 'HISTORY'\n",
      " type: 'STRING'>, <TableFieldSchema\n",
      " fields: []\n",
      " mode: 'NULLABLE'\n",
      " name: 'PRIOR_VAX'\n",
      " type: 'STRING'>]>. Result: <Table\n",
      " creationTime: 1587878431799\n",
      " etag: 'XNpD/jM12NcxpZOBA5jB7g=='\n",
      " id: 'studied-brand-266702:vaers_modeled.Adverse_Event_Beam'\n",
      " kind: 'bigquery#table'\n",
      " lastModifiedTime: 1587878431834\n",
      " location: 'US'\n",
      " numBytes: 0\n",
      " numLongTermBytes: 0\n",
      " numRows: 0\n",
      " schema: <TableSchema\n",
      " fields: [<TableFieldSchema\n",
      " fields: []\n",
      " mode: 'NULLABLE'\n",
      " name: 'VAERS_ID'\n",
      " type: 'INTEGER'>, <TableFieldSchema\n",
      " fields: []\n",
      " mode: 'NULLABLE'\n",
      " name: 'ONSET_DATE'\n",
      " type: 'DATE'>, <TableFieldSchema\n",
      " fields: []\n",
      " mode: 'NULLABLE'\n",
      " name: 'RECOVD'\n",
      " type: 'BOOLEAN'>, <TableFieldSchema\n",
      " fields: []\n",
      " mode: 'NULLABLE'\n",
      " name: 'DIED'\n",
      " type: 'BOOLEAN'>, <TableFieldSchema\n",
      " fields: []\n",
      " mode: 'NULLABLE'\n",
      " name: 'DATEDIED'\n",
      " type: 'DATE'>, <TableFieldSchema\n",
      " fields: []\n",
      " mode: 'NULLABLE'\n",
      " name: 'L_THREAT'\n",
      " type: 'BOOLEAN'>, <TableFieldSchema\n",
      " fields: []\n",
      " mode: 'NULLABLE'\n",
      " name: 'OFC_VISIT'\n",
      " type: 'BOOLEAN'>, <TableFieldSchema\n",
      " fields: []\n",
      " mode: 'NULLABLE'\n",
      " name: 'ER_VISIT'\n",
      " type: 'BOOLEAN'>, <TableFieldSchema\n",
      " fields: []\n",
      " mode: 'NULLABLE'\n",
      " name: 'ER_ED_VISIT'\n",
      " type: 'BOOLEAN'>, <TableFieldSchema\n",
      " fields: []\n",
      " mode: 'NULLABLE'\n",
      " name: 'HOSPITAL'\n",
      " type: 'BOOLEAN'>, <TableFieldSchema\n",
      " fields: []\n",
      " mode: 'NULLABLE'\n",
      " name: 'HOSPDAYS'\n",
      " type: 'INTEGER'>, <TableFieldSchema\n",
      " fields: []\n",
      " mode: 'NULLABLE'\n",
      " name: 'X_STAY'\n",
      " type: 'BOOLEAN'>, <TableFieldSchema\n",
      " fields: []\n",
      " mode: 'NULLABLE'\n",
      " name: 'DISABLE'\n",
      " type: 'BOOLEAN'>, <TableFieldSchema\n",
      " fields: []\n",
      " mode: 'NULLABLE'\n",
      " name: 'BIRTH_DEFECT'\n",
      " type: 'BOOLEAN'>, <TableFieldSchema\n",
      " fields: []\n",
      " mode: 'NULLABLE'\n",
      " name: 'OTHER_MEDS'\n",
      " type: 'STRING'>, <TableFieldSchema\n",
      " fields: []\n",
      " mode: 'NULLABLE'\n",
      " name: 'CUR_ILL'\n",
      " type: 'STRING'>, <TableFieldSchema\n",
      " fields: []\n",
      " mode: 'NULLABLE'\n",
      " name: 'HISTORY'\n",
      " type: 'STRING'>, <TableFieldSchema\n",
      " fields: []\n",
      " mode: 'NULLABLE'\n",
      " name: 'PRIOR_VAX'\n",
      " type: 'STRING'>]>\n",
      " selfLink: 'https://www.googleapis.com/bigquery/v2/projects/studied-brand-266702/datasets/vaers_modeled/tables/Adverse_Event_Beam'\n",
      " tableReference: <TableReference\n",
      " datasetId: 'vaers_modeled'\n",
      " projectId: 'studied-brand-266702'\n",
      " tableId: 'Adverse_Event_Beam'>\n",
      " type: 'TABLE'>.\n",
      "WARNING:apache_beam.io.gcp.bigquery_tools:Sleeping for 150 seconds before the write as BigQuery inserts can be routed to deleted table for 2 mins after the delete and create.\n"
     ]
    }
   ],
   "source": [
    "%run Adverse_Event_beam.py"
   ]
  },
  {
   "cell_type": "markdown",
   "metadata": {},
   "source": [
    "### Verify presence of Primary Key in Beam result table"
   ]
  },
  {
   "cell_type": "markdown",
   "metadata": {},
   "source": [
    "#### Adverse_Event_Beam table: PK is VAERS_ID"
   ]
  },
  {
   "cell_type": "code",
   "execution_count": 46,
   "metadata": {},
   "outputs": [
    {
     "data": {
      "text/html": [
       "<div>\n",
       "<style scoped>\n",
       "    .dataframe tbody tr th:only-of-type {\n",
       "        vertical-align: middle;\n",
       "    }\n",
       "\n",
       "    .dataframe tbody tr th {\n",
       "        vertical-align: top;\n",
       "    }\n",
       "\n",
       "    .dataframe thead th {\n",
       "        text-align: right;\n",
       "    }\n",
       "</style>\n",
       "<table border=\"1\" class=\"dataframe\">\n",
       "  <thead>\n",
       "    <tr style=\"text-align: right;\">\n",
       "      <th></th>\n",
       "      <th>total_records</th>\n",
       "    </tr>\n",
       "  </thead>\n",
       "  <tbody>\n",
       "    <tr>\n",
       "      <th>0</th>\n",
       "      <td>50</td>\n",
       "    </tr>\n",
       "  </tbody>\n",
       "</table>\n",
       "</div>"
      ],
      "text/plain": [
       "   total_records\n",
       "0             50"
      ]
     },
     "execution_count": 46,
     "metadata": {},
     "output_type": "execute_result"
    }
   ],
   "source": [
    "%%bigquery\n",
    "select count(*) as total_records from vaers_modeled.Adverse_Event_Beam"
   ]
  },
  {
   "cell_type": "code",
   "execution_count": 47,
   "metadata": {},
   "outputs": [
    {
     "data": {
      "text/html": [
       "<div>\n",
       "<style scoped>\n",
       "    .dataframe tbody tr th:only-of-type {\n",
       "        vertical-align: middle;\n",
       "    }\n",
       "\n",
       "    .dataframe tbody tr th {\n",
       "        vertical-align: top;\n",
       "    }\n",
       "\n",
       "    .dataframe thead th {\n",
       "        text-align: right;\n",
       "    }\n",
       "</style>\n",
       "<table border=\"1\" class=\"dataframe\">\n",
       "  <thead>\n",
       "    <tr style=\"text-align: right;\">\n",
       "      <th></th>\n",
       "      <th>distinct_id</th>\n",
       "    </tr>\n",
       "  </thead>\n",
       "  <tbody>\n",
       "    <tr>\n",
       "      <th>0</th>\n",
       "      <td>50</td>\n",
       "    </tr>\n",
       "  </tbody>\n",
       "</table>\n",
       "</div>"
      ],
      "text/plain": [
       "   distinct_id\n",
       "0           50"
      ]
     },
     "execution_count": 47,
     "metadata": {},
     "output_type": "execute_result"
    }
   ],
   "source": [
    "%%bigquery\n",
    "select count(distinct VAERS_ID) as distinct_id from vaers_modeled.Adverse_Event_Beam"
   ]
  },
  {
   "cell_type": "markdown",
   "metadata": {},
   "source": [
    "#### Adverse_Event_Beam table is a parent table and does not have any Foreign Key"
   ]
  },
  {
   "cell_type": "markdown",
   "metadata": {},
   "source": [
    "### Standardize data in Vaccination table using Beam pipeline (Direct Runner)"
   ]
  },
  {
   "cell_type": "code",
   "execution_count": 48,
   "metadata": {
    "collapsed": true,
    "jupyter": {
     "outputs_hidden": true
    }
   },
   "outputs": [
    {
     "name": "stderr",
     "output_type": "stream",
     "text": [
      "/home/jupyter/venv/lib/python3.5/site-packages/apache_beam/io/gcp/bigquery.py:1421: BeamDeprecationWarning: options is deprecated since First stable release. References to <pipeline>.options will not be supported\n",
      "  experiments = p.options.view_as(DebugOptions).experiments or []\n",
      "INFO:apache_beam.runners.direct.direct_runner:Running pipeline with DirectRunner.\n",
      "INFO:apache_beam.io.gcp.bigquery_tools:Using location 'US' from table <TableReference\n",
      " datasetId: 'vaers_modeled'\n",
      " projectId: 'studied-brand-266702'\n",
      " tableId: 'Vaccination'> referenced by query SELECT * FROM vaers_modeled.Vaccination limit 50\n",
      "WARNING:apache_beam.io.gcp.bigquery_tools:Dataset studied-brand-266702:temp_dataset_d620fe0dc3414b16a8cd8d1d6f4fd4e8 does not exist so we will create it as temporary with location=US\n"
     ]
    },
    {
     "name": "stdout",
     "output_type": "stream",
     "text": [
      "Current V_FUNDBY, VAX_ROUTE and VAX_SITE:  None None None\n",
      "New V_FUNDBY, VAX_ROUTE and VAX_SITE:  UNK UN UN\n",
      "Current V_FUNDBY, VAX_ROUTE and VAX_SITE:  None None None\n",
      "New V_FUNDBY, VAX_ROUTE and VAX_SITE:  UNK UN UN\n",
      "Current V_FUNDBY, VAX_ROUTE and VAX_SITE:  None None None\n",
      "New V_FUNDBY, VAX_ROUTE and VAX_SITE:  UNK UN UN\n",
      "Current V_FUNDBY, VAX_ROUTE and VAX_SITE:  None None None\n",
      "New V_FUNDBY, VAX_ROUTE and VAX_SITE:  UNK UN UN\n",
      "Current V_FUNDBY, VAX_ROUTE and VAX_SITE:  None UN None\n",
      "New V_FUNDBY, VAX_ROUTE and VAX_SITE:  UNK UN UN\n",
      "Current V_FUNDBY, VAX_ROUTE and VAX_SITE:  OTH IM AR\n",
      "New V_FUNDBY, VAX_ROUTE and VAX_SITE:  OTH IM AR\n",
      "Current V_FUNDBY, VAX_ROUTE and VAX_SITE:  None SYR AR\n",
      "New V_FUNDBY, VAX_ROUTE and VAX_SITE:  UNK SYR AR\n",
      "Current V_FUNDBY, VAX_ROUTE and VAX_SITE:  None SYR AR\n",
      "New V_FUNDBY, VAX_ROUTE and VAX_SITE:  UNK SYR AR\n",
      "Current V_FUNDBY, VAX_ROUTE and VAX_SITE:  None IM LA\n",
      "New V_FUNDBY, VAX_ROUTE and VAX_SITE:  UNK IM LA\n",
      "Current V_FUNDBY, VAX_ROUTE and VAX_SITE:  None IM LA\n",
      "New V_FUNDBY, VAX_ROUTE and VAX_SITE:  UNK IM LA\n",
      "Current V_FUNDBY, VAX_ROUTE and VAX_SITE:  OTH IM LA\n",
      "New V_FUNDBY, VAX_ROUTE and VAX_SITE:  OTH IM LA\n",
      "Current V_FUNDBY, VAX_ROUTE and VAX_SITE:  PUB IM LA\n",
      "New V_FUNDBY, VAX_ROUTE and VAX_SITE:  PUB IM LA\n",
      "Current V_FUNDBY, VAX_ROUTE and VAX_SITE:  None IM LA\n",
      "New V_FUNDBY, VAX_ROUTE and VAX_SITE:  UNK IM LA\n",
      "Current V_FUNDBY, VAX_ROUTE and VAX_SITE:  None IM LA\n",
      "New V_FUNDBY, VAX_ROUTE and VAX_SITE:  UNK IM LA\n",
      "Current V_FUNDBY, VAX_ROUTE and VAX_SITE:  None IM LA\n",
      "New V_FUNDBY, VAX_ROUTE and VAX_SITE:  UNK IM LA\n",
      "Current V_FUNDBY, VAX_ROUTE and VAX_SITE:  None SYR LA\n",
      "New V_FUNDBY, VAX_ROUTE and VAX_SITE:  UNK SYR LA\n",
      "Current V_FUNDBY, VAX_ROUTE and VAX_SITE:  None IM LA\n",
      "New V_FUNDBY, VAX_ROUTE and VAX_SITE:  UNK IM LA\n",
      "Current V_FUNDBY, VAX_ROUTE and VAX_SITE:  None IM LA\n",
      "New V_FUNDBY, VAX_ROUTE and VAX_SITE:  UNK IM LA\n",
      "Current V_FUNDBY, VAX_ROUTE and VAX_SITE:  None IM LA\n",
      "New V_FUNDBY, VAX_ROUTE and VAX_SITE:  UNK IM LA\n",
      "Current V_FUNDBY, VAX_ROUTE and VAX_SITE:  None IM LA\n",
      "New V_FUNDBY, VAX_ROUTE and VAX_SITE:  UNK IM LA\n",
      "Current V_FUNDBY, VAX_ROUTE and VAX_SITE:  PVT SC LA\n",
      "New V_FUNDBY, VAX_ROUTE and VAX_SITE:  PVT SC LA\n",
      "Current V_FUNDBY, VAX_ROUTE and VAX_SITE:  None SC LA\n",
      "New V_FUNDBY, VAX_ROUTE and VAX_SITE:  UNK SC LA\n",
      "Current V_FUNDBY, VAX_ROUTE and VAX_SITE:  OTH SYR LA\n",
      "New V_FUNDBY, VAX_ROUTE and VAX_SITE:  OTH SYR LA\n",
      "Current V_FUNDBY, VAX_ROUTE and VAX_SITE:  None SYR LG\n",
      "New V_FUNDBY, VAX_ROUTE and VAX_SITE:  UNK SYR LG\n",
      "Current V_FUNDBY, VAX_ROUTE and VAX_SITE:  None SYR LG\n",
      "New V_FUNDBY, VAX_ROUTE and VAX_SITE:  UNK SYR LG\n",
      "Current V_FUNDBY, VAX_ROUTE and VAX_SITE:  None SYR LG\n",
      "New V_FUNDBY, VAX_ROUTE and VAX_SITE:  UNK SYR LG\n",
      "Current V_FUNDBY, VAX_ROUTE and VAX_SITE:  PVT UN LL\n",
      "New V_FUNDBY, VAX_ROUTE and VAX_SITE:  PVT UN LL\n",
      "Current V_FUNDBY, VAX_ROUTE and VAX_SITE:  None IM LL\n",
      "New V_FUNDBY, VAX_ROUTE and VAX_SITE:  UNK IM LL\n",
      "Current V_FUNDBY, VAX_ROUTE and VAX_SITE:  None PO MO\n",
      "New V_FUNDBY, VAX_ROUTE and VAX_SITE:  UNK PO MO\n",
      "Current V_FUNDBY, VAX_ROUTE and VAX_SITE:  PUB UN RA\n",
      "New V_FUNDBY, VAX_ROUTE and VAX_SITE:  PUB UN RA\n",
      "Current V_FUNDBY, VAX_ROUTE and VAX_SITE:  None SYR RA\n",
      "New V_FUNDBY, VAX_ROUTE and VAX_SITE:  UNK SYR RA\n",
      "Current V_FUNDBY, VAX_ROUTE and VAX_SITE:  None IM RA\n",
      "New V_FUNDBY, VAX_ROUTE and VAX_SITE:  UNK IM RA\n",
      "Current V_FUNDBY, VAX_ROUTE and VAX_SITE:  None IM RA\n",
      "New V_FUNDBY, VAX_ROUTE and VAX_SITE:  UNK IM RA\n",
      "Current V_FUNDBY, VAX_ROUTE and VAX_SITE:  PUB IM RL\n",
      "New V_FUNDBY, VAX_ROUTE and VAX_SITE:  PUB IM RL\n",
      "Current V_FUNDBY, VAX_ROUTE and VAX_SITE:  None IM RL\n",
      "New V_FUNDBY, VAX_ROUTE and VAX_SITE:  UNK IM RL\n",
      "Current V_FUNDBY, VAX_ROUTE and VAX_SITE:  None IM UN\n",
      "New V_FUNDBY, VAX_ROUTE and VAX_SITE:  UNK IM UN\n",
      "Current V_FUNDBY, VAX_ROUTE and VAX_SITE:  None UN UN\n",
      "New V_FUNDBY, VAX_ROUTE and VAX_SITE:  UNK UN UN\n",
      "Current V_FUNDBY, VAX_ROUTE and VAX_SITE:  None UN UN\n",
      "New V_FUNDBY, VAX_ROUTE and VAX_SITE:  UNK UN UN\n",
      "Current V_FUNDBY, VAX_ROUTE and VAX_SITE:  None IM UN\n",
      "New V_FUNDBY, VAX_ROUTE and VAX_SITE:  UNK IM UN\n",
      "Current V_FUNDBY, VAX_ROUTE and VAX_SITE:  OTH UN UN\n",
      "New V_FUNDBY, VAX_ROUTE and VAX_SITE:  OTH UN UN\n",
      "Current V_FUNDBY, VAX_ROUTE and VAX_SITE:  OTH UN UN\n",
      "New V_FUNDBY, VAX_ROUTE and VAX_SITE:  OTH UN UN\n",
      "Current V_FUNDBY, VAX_ROUTE and VAX_SITE:  OTH UN UN\n",
      "New V_FUNDBY, VAX_ROUTE and VAX_SITE:  OTH UN UN\n",
      "Current V_FUNDBY, VAX_ROUTE and VAX_SITE:  OTH UN UN\n",
      "New V_FUNDBY, VAX_ROUTE and VAX_SITE:  OTH UN UN\n",
      "Current V_FUNDBY, VAX_ROUTE and VAX_SITE:  OTH IM UN\n",
      "New V_FUNDBY, VAX_ROUTE and VAX_SITE:  OTH IM UN\n",
      "Current V_FUNDBY, VAX_ROUTE and VAX_SITE:  OTH IM UN\n",
      "New V_FUNDBY, VAX_ROUTE and VAX_SITE:  OTH IM UN\n",
      "Current V_FUNDBY, VAX_ROUTE and VAX_SITE:  None UN UN\n",
      "New V_FUNDBY, VAX_ROUTE and VAX_SITE:  UNK UN UN\n",
      "Current V_FUNDBY, VAX_ROUTE and VAX_SITE:  None SC UN\n",
      "New V_FUNDBY, VAX_ROUTE and VAX_SITE:  UNK SC UN\n",
      "Current V_FUNDBY, VAX_ROUTE and VAX_SITE:  None UN UN\n",
      "New V_FUNDBY, VAX_ROUTE and VAX_SITE:  UNK UN UN\n",
      "Current V_FUNDBY, VAX_ROUTE and VAX_SITE:  None UN UN\n",
      "New V_FUNDBY, VAX_ROUTE and VAX_SITE:  UNK UN UN\n",
      "Current V_FUNDBY, VAX_ROUTE and VAX_SITE:  None UN UN\n",
      "New V_FUNDBY, VAX_ROUTE and VAX_SITE:  UNK UN UN\n"
     ]
    },
    {
     "name": "stderr",
     "output_type": "stream",
     "text": [
      "INFO:apache_beam.io.gcp.bigquery_tools:Created table studied-brand-266702.vaers_modeled.Vaccination_Beam with schema <TableSchema\n",
      " fields: [<TableFieldSchema\n",
      " fields: []\n",
      " mode: 'NULLABLE'\n",
      " name: 'VACCINATION_ID'\n",
      " type: 'INTEGER'>, <TableFieldSchema\n",
      " fields: []\n",
      " mode: 'NULLABLE'\n",
      " name: 'VAERS_ID'\n",
      " type: 'INTEGER'>, <TableFieldSchema\n",
      " fields: []\n",
      " mode: 'NULLABLE'\n",
      " name: 'VAX_DATE'\n",
      " type: 'DATE'>, <TableFieldSchema\n",
      " fields: []\n",
      " mode: 'NULLABLE'\n",
      " name: 'VAX_ID'\n",
      " type: 'INTEGER'>, <TableFieldSchema\n",
      " fields: []\n",
      " mode: 'NULLABLE'\n",
      " name: 'MANU_ID'\n",
      " type: 'INTEGER'>, <TableFieldSchema\n",
      " fields: []\n",
      " mode: 'NULLABLE'\n",
      " name: 'V_ADMINBY'\n",
      " type: 'STRING'>, <TableFieldSchema\n",
      " fields: []\n",
      " mode: 'NULLABLE'\n",
      " name: 'V_FUNDBY'\n",
      " type: 'STRING'>, <TableFieldSchema\n",
      " fields: []\n",
      " mode: 'NULLABLE'\n",
      " name: 'VAX_ROUTE'\n",
      " type: 'STRING'>, <TableFieldSchema\n",
      " fields: []\n",
      " mode: 'NULLABLE'\n",
      " name: 'VAX_SITE'\n",
      " type: 'STRING'>]>. Result: <Table\n",
      " creationTime: 1587878594849\n",
      " etag: 'KiFEYKRd+2hGyS44gSxoyw=='\n",
      " id: 'studied-brand-266702:vaers_modeled.Vaccination_Beam'\n",
      " kind: 'bigquery#table'\n",
      " lastModifiedTime: 1587878594879\n",
      " location: 'US'\n",
      " numBytes: 0\n",
      " numLongTermBytes: 0\n",
      " numRows: 0\n",
      " schema: <TableSchema\n",
      " fields: [<TableFieldSchema\n",
      " fields: []\n",
      " mode: 'NULLABLE'\n",
      " name: 'VACCINATION_ID'\n",
      " type: 'INTEGER'>, <TableFieldSchema\n",
      " fields: []\n",
      " mode: 'NULLABLE'\n",
      " name: 'VAERS_ID'\n",
      " type: 'INTEGER'>, <TableFieldSchema\n",
      " fields: []\n",
      " mode: 'NULLABLE'\n",
      " name: 'VAX_DATE'\n",
      " type: 'DATE'>, <TableFieldSchema\n",
      " fields: []\n",
      " mode: 'NULLABLE'\n",
      " name: 'VAX_ID'\n",
      " type: 'INTEGER'>, <TableFieldSchema\n",
      " fields: []\n",
      " mode: 'NULLABLE'\n",
      " name: 'MANU_ID'\n",
      " type: 'INTEGER'>, <TableFieldSchema\n",
      " fields: []\n",
      " mode: 'NULLABLE'\n",
      " name: 'V_ADMINBY'\n",
      " type: 'STRING'>, <TableFieldSchema\n",
      " fields: []\n",
      " mode: 'NULLABLE'\n",
      " name: 'V_FUNDBY'\n",
      " type: 'STRING'>, <TableFieldSchema\n",
      " fields: []\n",
      " mode: 'NULLABLE'\n",
      " name: 'VAX_ROUTE'\n",
      " type: 'STRING'>, <TableFieldSchema\n",
      " fields: []\n",
      " mode: 'NULLABLE'\n",
      " name: 'VAX_SITE'\n",
      " type: 'STRING'>]>\n",
      " selfLink: 'https://www.googleapis.com/bigquery/v2/projects/studied-brand-266702/datasets/vaers_modeled/tables/Vaccination_Beam'\n",
      " tableReference: <TableReference\n",
      " datasetId: 'vaers_modeled'\n",
      " projectId: 'studied-brand-266702'\n",
      " tableId: 'Vaccination_Beam'>\n",
      " type: 'TABLE'>.\n",
      "WARNING:apache_beam.io.gcp.bigquery_tools:Sleeping for 150 seconds before the write as BigQuery inserts can be routed to deleted table for 2 mins after the delete and create.\n",
      "INFO:apache_beam.io.filebasedsink:Starting finalize_write threads with num_shards: 1 (skipped: 0), batches: 1, num_threads: 1\n",
      "INFO:apache_beam.io.filebasedsink:Renamed 1 shards in 0.10 seconds.\n",
      "INFO:apache_beam.io.filebasedsink:Starting finalize_write threads with num_shards: 1 (skipped: 0), batches: 1, num_threads: 1\n",
      "INFO:apache_beam.io.filebasedsink:Renamed 1 shards in 0.10 seconds.\n"
     ]
    }
   ],
   "source": [
    "%run Vaccination_beam.py"
   ]
  },
  {
   "cell_type": "markdown",
   "metadata": {},
   "source": [
    "### Verify presence of Primary Key in Beam result table"
   ]
  },
  {
   "cell_type": "markdown",
   "metadata": {},
   "source": [
    "#### Vaccination_Beam table: PK is VACCINATION_ID"
   ]
  },
  {
   "cell_type": "code",
   "execution_count": 49,
   "metadata": {},
   "outputs": [
    {
     "data": {
      "text/html": [
       "<div>\n",
       "<style scoped>\n",
       "    .dataframe tbody tr th:only-of-type {\n",
       "        vertical-align: middle;\n",
       "    }\n",
       "\n",
       "    .dataframe tbody tr th {\n",
       "        vertical-align: top;\n",
       "    }\n",
       "\n",
       "    .dataframe thead th {\n",
       "        text-align: right;\n",
       "    }\n",
       "</style>\n",
       "<table border=\"1\" class=\"dataframe\">\n",
       "  <thead>\n",
       "    <tr style=\"text-align: right;\">\n",
       "      <th></th>\n",
       "      <th>total_records</th>\n",
       "    </tr>\n",
       "  </thead>\n",
       "  <tbody>\n",
       "    <tr>\n",
       "      <th>0</th>\n",
       "      <td>50</td>\n",
       "    </tr>\n",
       "  </tbody>\n",
       "</table>\n",
       "</div>"
      ],
      "text/plain": [
       "   total_records\n",
       "0             50"
      ]
     },
     "execution_count": 49,
     "metadata": {},
     "output_type": "execute_result"
    }
   ],
   "source": [
    "%%bigquery\n",
    "select count(*) as total_records from vaers_modeled.Vaccination_Beam"
   ]
  },
  {
   "cell_type": "code",
   "execution_count": 50,
   "metadata": {},
   "outputs": [
    {
     "data": {
      "text/html": [
       "<div>\n",
       "<style scoped>\n",
       "    .dataframe tbody tr th:only-of-type {\n",
       "        vertical-align: middle;\n",
       "    }\n",
       "\n",
       "    .dataframe tbody tr th {\n",
       "        vertical-align: top;\n",
       "    }\n",
       "\n",
       "    .dataframe thead th {\n",
       "        text-align: right;\n",
       "    }\n",
       "</style>\n",
       "<table border=\"1\" class=\"dataframe\">\n",
       "  <thead>\n",
       "    <tr style=\"text-align: right;\">\n",
       "      <th></th>\n",
       "      <th>distinct_id</th>\n",
       "    </tr>\n",
       "  </thead>\n",
       "  <tbody>\n",
       "    <tr>\n",
       "      <th>0</th>\n",
       "      <td>50</td>\n",
       "    </tr>\n",
       "  </tbody>\n",
       "</table>\n",
       "</div>"
      ],
      "text/plain": [
       "   distinct_id\n",
       "0           50"
      ]
     },
     "execution_count": 50,
     "metadata": {},
     "output_type": "execute_result"
    }
   ],
   "source": [
    "%%bigquery\n",
    "select count(distinct VACCINATION_ID) as distinct_id from vaers_modeled.Vaccination_Beam"
   ]
  },
  {
   "cell_type": "markdown",
   "metadata": {},
   "source": [
    "#### Vaccination_Beam table: FK is VAERS_ID from Adverse_Event table"
   ]
  },
  {
   "cell_type": "code",
   "execution_count": 51,
   "metadata": {},
   "outputs": [
    {
     "data": {
      "text/html": [
       "<div>\n",
       "<style scoped>\n",
       "    .dataframe tbody tr th:only-of-type {\n",
       "        vertical-align: middle;\n",
       "    }\n",
       "\n",
       "    .dataframe tbody tr th {\n",
       "        vertical-align: top;\n",
       "    }\n",
       "\n",
       "    .dataframe thead th {\n",
       "        text-align: right;\n",
       "    }\n",
       "</style>\n",
       "<table border=\"1\" class=\"dataframe\">\n",
       "  <thead>\n",
       "    <tr style=\"text-align: right;\">\n",
       "      <th></th>\n",
       "      <th>count_of_invalid_FK</th>\n",
       "    </tr>\n",
       "  </thead>\n",
       "  <tbody>\n",
       "    <tr>\n",
       "      <th>0</th>\n",
       "      <td>0</td>\n",
       "    </tr>\n",
       "  </tbody>\n",
       "</table>\n",
       "</div>"
      ],
      "text/plain": [
       "   count_of_invalid_FK\n",
       "0                    0"
      ]
     },
     "execution_count": 51,
     "metadata": {},
     "output_type": "execute_result"
    }
   ],
   "source": [
    "%%bigquery\n",
    "select count(*) as count_of_invalid_FK \n",
    "from vaers_modeled.Vaccination_Beam v left join vaers_modeled.Adverse_Event e on e.VAERS_ID = v.VAERS_ID \n",
    "where e.VAERS_ID is null "
   ]
  },
  {
   "cell_type": "markdown",
   "metadata": {},
   "source": [
    "#### Vaccination_Beam table: FK is VAX_ID from Vaccine table"
   ]
  },
  {
   "cell_type": "code",
   "execution_count": 52,
   "metadata": {},
   "outputs": [
    {
     "data": {
      "text/html": [
       "<div>\n",
       "<style scoped>\n",
       "    .dataframe tbody tr th:only-of-type {\n",
       "        vertical-align: middle;\n",
       "    }\n",
       "\n",
       "    .dataframe tbody tr th {\n",
       "        vertical-align: top;\n",
       "    }\n",
       "\n",
       "    .dataframe thead th {\n",
       "        text-align: right;\n",
       "    }\n",
       "</style>\n",
       "<table border=\"1\" class=\"dataframe\">\n",
       "  <thead>\n",
       "    <tr style=\"text-align: right;\">\n",
       "      <th></th>\n",
       "      <th>count_of_invalid_FK</th>\n",
       "    </tr>\n",
       "  </thead>\n",
       "  <tbody>\n",
       "    <tr>\n",
       "      <th>0</th>\n",
       "      <td>0</td>\n",
       "    </tr>\n",
       "  </tbody>\n",
       "</table>\n",
       "</div>"
      ],
      "text/plain": [
       "   count_of_invalid_FK\n",
       "0                    0"
      ]
     },
     "execution_count": 52,
     "metadata": {},
     "output_type": "execute_result"
    }
   ],
   "source": [
    "%%bigquery\n",
    "select count(*) as count_of_invalid_FK \n",
    "from vaers_modeled.Vaccination_Beam v left join vaers_modeled.Vaccine va on va.VAX_ID = v.VAX_ID \n",
    "where va.VAX_ID is null "
   ]
  },
  {
   "cell_type": "markdown",
   "metadata": {},
   "source": [
    "#### Vaccination_Beam table: FK is MANU_ID from Manufacturer table"
   ]
  },
  {
   "cell_type": "code",
   "execution_count": 53,
   "metadata": {},
   "outputs": [
    {
     "data": {
      "text/html": [
       "<div>\n",
       "<style scoped>\n",
       "    .dataframe tbody tr th:only-of-type {\n",
       "        vertical-align: middle;\n",
       "    }\n",
       "\n",
       "    .dataframe tbody tr th {\n",
       "        vertical-align: top;\n",
       "    }\n",
       "\n",
       "    .dataframe thead th {\n",
       "        text-align: right;\n",
       "    }\n",
       "</style>\n",
       "<table border=\"1\" class=\"dataframe\">\n",
       "  <thead>\n",
       "    <tr style=\"text-align: right;\">\n",
       "      <th></th>\n",
       "      <th>count_of_invalid_FK</th>\n",
       "    </tr>\n",
       "  </thead>\n",
       "  <tbody>\n",
       "    <tr>\n",
       "      <th>0</th>\n",
       "      <td>0</td>\n",
       "    </tr>\n",
       "  </tbody>\n",
       "</table>\n",
       "</div>"
      ],
      "text/plain": [
       "   count_of_invalid_FK\n",
       "0                    0"
      ]
     },
     "execution_count": 53,
     "metadata": {},
     "output_type": "execute_result"
    }
   ],
   "source": [
    "%%bigquery\n",
    "select count(*) as count_of_invalid_FK \n",
    "from vaers_modeled.Vaccination_Beam v left join vaers_modeled.Manufacturer m on m.MANU_ID = v.MANU_ID \n",
    "where m.MANU_ID is null "
   ]
  },
  {
   "cell_type": "markdown",
   "metadata": {},
   "source": [
    "### Standardize data in Adverse_Event table using Beam pipeline (Dataflow Runner)"
   ]
  },
  {
   "cell_type": "code",
   "execution_count": 54,
   "metadata": {},
   "outputs": [
    {
     "name": "stderr",
     "output_type": "stream",
     "text": [
      "/home/jupyter/venv/lib/python3.5/site-packages/apache_beam/runners/dataflow/dataflow_runner.py:740: BeamDeprecationWarning: BigQuerySink is deprecated since 2.11.0. Use WriteToBigQuery instead.\n",
      "  kms_key=transform.kms_key))\n"
     ]
    }
   ],
   "source": [
    "%run Adverse_Event_beam_dataflow.py"
   ]
  },
  {
   "cell_type": "markdown",
   "metadata": {},
   "source": [
    "### Verify presence of Primary Key in Beam result table"
   ]
  },
  {
   "cell_type": "markdown",
   "metadata": {},
   "source": [
    "#### Adverse_Event_Beam_DF table: PK is VAERS_ID"
   ]
  },
  {
   "cell_type": "code",
   "execution_count": 55,
   "metadata": {},
   "outputs": [
    {
     "data": {
      "text/html": [
       "<div>\n",
       "<style scoped>\n",
       "    .dataframe tbody tr th:only-of-type {\n",
       "        vertical-align: middle;\n",
       "    }\n",
       "\n",
       "    .dataframe tbody tr th {\n",
       "        vertical-align: top;\n",
       "    }\n",
       "\n",
       "    .dataframe thead th {\n",
       "        text-align: right;\n",
       "    }\n",
       "</style>\n",
       "<table border=\"1\" class=\"dataframe\">\n",
       "  <thead>\n",
       "    <tr style=\"text-align: right;\">\n",
       "      <th></th>\n",
       "      <th>total_records</th>\n",
       "    </tr>\n",
       "  </thead>\n",
       "  <tbody>\n",
       "    <tr>\n",
       "      <th>0</th>\n",
       "      <td>49165</td>\n",
       "    </tr>\n",
       "  </tbody>\n",
       "</table>\n",
       "</div>"
      ],
      "text/plain": [
       "   total_records\n",
       "0          49165"
      ]
     },
     "execution_count": 55,
     "metadata": {},
     "output_type": "execute_result"
    }
   ],
   "source": [
    "%%bigquery\n",
    "select count(*) as total_records from vaers_modeled.Adverse_Event_Beam_DF"
   ]
  },
  {
   "cell_type": "code",
   "execution_count": 56,
   "metadata": {},
   "outputs": [
    {
     "data": {
      "text/html": [
       "<div>\n",
       "<style scoped>\n",
       "    .dataframe tbody tr th:only-of-type {\n",
       "        vertical-align: middle;\n",
       "    }\n",
       "\n",
       "    .dataframe tbody tr th {\n",
       "        vertical-align: top;\n",
       "    }\n",
       "\n",
       "    .dataframe thead th {\n",
       "        text-align: right;\n",
       "    }\n",
       "</style>\n",
       "<table border=\"1\" class=\"dataframe\">\n",
       "  <thead>\n",
       "    <tr style=\"text-align: right;\">\n",
       "      <th></th>\n",
       "      <th>distinct_id</th>\n",
       "    </tr>\n",
       "  </thead>\n",
       "  <tbody>\n",
       "    <tr>\n",
       "      <th>0</th>\n",
       "      <td>49165</td>\n",
       "    </tr>\n",
       "  </tbody>\n",
       "</table>\n",
       "</div>"
      ],
      "text/plain": [
       "   distinct_id\n",
       "0        49165"
      ]
     },
     "execution_count": 56,
     "metadata": {},
     "output_type": "execute_result"
    }
   ],
   "source": [
    "%%bigquery\n",
    "select count(distinct VAERS_ID) as distinct_id from vaers_modeled.Adverse_Event_Beam_DF"
   ]
  },
  {
   "cell_type": "markdown",
   "metadata": {},
   "source": [
    "#### Adverse_Event_Beam_DF table is a parent table and does not have any Foreign Key"
   ]
  },
  {
   "cell_type": "markdown",
   "metadata": {},
   "source": [
    "### Standardize data in Vaccination table using Beam pipeline (Dataflow Runner)"
   ]
  },
  {
   "cell_type": "code",
   "execution_count": 66,
   "metadata": {},
   "outputs": [
    {
     "name": "stderr",
     "output_type": "stream",
     "text": [
      "/home/jupyter/venv/lib/python3.5/site-packages/apache_beam/runners/dataflow/dataflow_runner.py:740: BeamDeprecationWarning: BigQuerySink is deprecated since 2.11.0. Use WriteToBigQuery instead.\n",
      "  kms_key=transform.kms_key))\n"
     ]
    }
   ],
   "source": [
    "%run Vaccination_beam_dataflow.py"
   ]
  },
  {
   "cell_type": "markdown",
   "metadata": {},
   "source": [
    "### Verify presence of Primary Key in Beam result table"
   ]
  },
  {
   "cell_type": "markdown",
   "metadata": {},
   "source": [
    "#### Vaccination_Beam_DF table: PK is VACCINATION_ID"
   ]
  },
  {
   "cell_type": "code",
   "execution_count": 67,
   "metadata": {},
   "outputs": [
    {
     "data": {
      "text/html": [
       "<div>\n",
       "<style scoped>\n",
       "    .dataframe tbody tr th:only-of-type {\n",
       "        vertical-align: middle;\n",
       "    }\n",
       "\n",
       "    .dataframe tbody tr th {\n",
       "        vertical-align: top;\n",
       "    }\n",
       "\n",
       "    .dataframe thead th {\n",
       "        text-align: right;\n",
       "    }\n",
       "</style>\n",
       "<table border=\"1\" class=\"dataframe\">\n",
       "  <thead>\n",
       "    <tr style=\"text-align: right;\">\n",
       "      <th></th>\n",
       "      <th>total_records</th>\n",
       "    </tr>\n",
       "  </thead>\n",
       "  <tbody>\n",
       "    <tr>\n",
       "      <th>0</th>\n",
       "      <td>62337</td>\n",
       "    </tr>\n",
       "  </tbody>\n",
       "</table>\n",
       "</div>"
      ],
      "text/plain": [
       "   total_records\n",
       "0          62337"
      ]
     },
     "execution_count": 67,
     "metadata": {},
     "output_type": "execute_result"
    }
   ],
   "source": [
    "%%bigquery\n",
    "select count(*) as total_records from vaers_modeled.Vaccination_Beam_DF"
   ]
  },
  {
   "cell_type": "code",
   "execution_count": 68,
   "metadata": {},
   "outputs": [
    {
     "data": {
      "text/html": [
       "<div>\n",
       "<style scoped>\n",
       "    .dataframe tbody tr th:only-of-type {\n",
       "        vertical-align: middle;\n",
       "    }\n",
       "\n",
       "    .dataframe tbody tr th {\n",
       "        vertical-align: top;\n",
       "    }\n",
       "\n",
       "    .dataframe thead th {\n",
       "        text-align: right;\n",
       "    }\n",
       "</style>\n",
       "<table border=\"1\" class=\"dataframe\">\n",
       "  <thead>\n",
       "    <tr style=\"text-align: right;\">\n",
       "      <th></th>\n",
       "      <th>distinct_id</th>\n",
       "    </tr>\n",
       "  </thead>\n",
       "  <tbody>\n",
       "    <tr>\n",
       "      <th>0</th>\n",
       "      <td>62337</td>\n",
       "    </tr>\n",
       "  </tbody>\n",
       "</table>\n",
       "</div>"
      ],
      "text/plain": [
       "   distinct_id\n",
       "0        62337"
      ]
     },
     "execution_count": 68,
     "metadata": {},
     "output_type": "execute_result"
    }
   ],
   "source": [
    "%%bigquery\n",
    "select count(distinct VACCINATION_ID) as distinct_id from vaers_modeled.Vaccination_Beam_DF"
   ]
  },
  {
   "cell_type": "markdown",
   "metadata": {},
   "source": [
    "#### Vaccination_Beam_DF table: FK is VAERS_ID from Adverse_Event table"
   ]
  },
  {
   "cell_type": "code",
   "execution_count": 69,
   "metadata": {},
   "outputs": [
    {
     "data": {
      "text/html": [
       "<div>\n",
       "<style scoped>\n",
       "    .dataframe tbody tr th:only-of-type {\n",
       "        vertical-align: middle;\n",
       "    }\n",
       "\n",
       "    .dataframe tbody tr th {\n",
       "        vertical-align: top;\n",
       "    }\n",
       "\n",
       "    .dataframe thead th {\n",
       "        text-align: right;\n",
       "    }\n",
       "</style>\n",
       "<table border=\"1\" class=\"dataframe\">\n",
       "  <thead>\n",
       "    <tr style=\"text-align: right;\">\n",
       "      <th></th>\n",
       "      <th>count_of_invalid_FK</th>\n",
       "    </tr>\n",
       "  </thead>\n",
       "  <tbody>\n",
       "    <tr>\n",
       "      <th>0</th>\n",
       "      <td>0</td>\n",
       "    </tr>\n",
       "  </tbody>\n",
       "</table>\n",
       "</div>"
      ],
      "text/plain": [
       "   count_of_invalid_FK\n",
       "0                    0"
      ]
     },
     "execution_count": 69,
     "metadata": {},
     "output_type": "execute_result"
    }
   ],
   "source": [
    "%%bigquery\n",
    "select count(*) as count_of_invalid_FK \n",
    "from vaers_modeled.Vaccination_Beam_DF v left join vaers_modeled.Adverse_Event e on e.VAERS_ID = v.VAERS_ID \n",
    "where e.VAERS_ID is null "
   ]
  },
  {
   "cell_type": "markdown",
   "metadata": {},
   "source": [
    "#### Vaccination_Beam_DF table: FK is VAX_ID from Vaccine table"
   ]
  },
  {
   "cell_type": "code",
   "execution_count": 70,
   "metadata": {},
   "outputs": [
    {
     "data": {
      "text/html": [
       "<div>\n",
       "<style scoped>\n",
       "    .dataframe tbody tr th:only-of-type {\n",
       "        vertical-align: middle;\n",
       "    }\n",
       "\n",
       "    .dataframe tbody tr th {\n",
       "        vertical-align: top;\n",
       "    }\n",
       "\n",
       "    .dataframe thead th {\n",
       "        text-align: right;\n",
       "    }\n",
       "</style>\n",
       "<table border=\"1\" class=\"dataframe\">\n",
       "  <thead>\n",
       "    <tr style=\"text-align: right;\">\n",
       "      <th></th>\n",
       "      <th>count_of_invalid_FK</th>\n",
       "    </tr>\n",
       "  </thead>\n",
       "  <tbody>\n",
       "    <tr>\n",
       "      <th>0</th>\n",
       "      <td>0</td>\n",
       "    </tr>\n",
       "  </tbody>\n",
       "</table>\n",
       "</div>"
      ],
      "text/plain": [
       "   count_of_invalid_FK\n",
       "0                    0"
      ]
     },
     "execution_count": 70,
     "metadata": {},
     "output_type": "execute_result"
    }
   ],
   "source": [
    "%%bigquery\n",
    "select count(*) as count_of_invalid_FK \n",
    "from vaers_modeled.Vaccination_Beam_DF v left join vaers_modeled.Vaccine va on va.VAX_ID = v.VAX_ID \n",
    "where va.VAX_ID is null "
   ]
  },
  {
   "cell_type": "markdown",
   "metadata": {},
   "source": [
    "#### Vaccination_Beam_DF table: FK is MANU_ID from Manufacturer table"
   ]
  },
  {
   "cell_type": "code",
   "execution_count": 71,
   "metadata": {},
   "outputs": [
    {
     "data": {
      "text/html": [
       "<div>\n",
       "<style scoped>\n",
       "    .dataframe tbody tr th:only-of-type {\n",
       "        vertical-align: middle;\n",
       "    }\n",
       "\n",
       "    .dataframe tbody tr th {\n",
       "        vertical-align: top;\n",
       "    }\n",
       "\n",
       "    .dataframe thead th {\n",
       "        text-align: right;\n",
       "    }\n",
       "</style>\n",
       "<table border=\"1\" class=\"dataframe\">\n",
       "  <thead>\n",
       "    <tr style=\"text-align: right;\">\n",
       "      <th></th>\n",
       "      <th>count_of_invalid_FK</th>\n",
       "    </tr>\n",
       "  </thead>\n",
       "  <tbody>\n",
       "    <tr>\n",
       "      <th>0</th>\n",
       "      <td>0</td>\n",
       "    </tr>\n",
       "  </tbody>\n",
       "</table>\n",
       "</div>"
      ],
      "text/plain": [
       "   count_of_invalid_FK\n",
       "0                    0"
      ]
     },
     "execution_count": 71,
     "metadata": {},
     "output_type": "execute_result"
    }
   ],
   "source": [
    "%%bigquery\n",
    "select count(*) as count_of_invalid_FK \n",
    "from vaers_modeled.Vaccination_Beam_DF v left join vaers_modeled.Manufacturer m on m.MANU_ID = v.MANU_ID \n",
    "where m.MANU_ID is null "
   ]
  },
  {
   "cell_type": "code",
   "execution_count": null,
   "metadata": {},
   "outputs": [],
   "source": []
  }
 ],
 "metadata": {
  "kernelspec": {
   "display_name": "Python 3",
   "language": "python",
   "name": "python3"
  },
  "language_info": {
   "codemirror_mode": {
    "name": "ipython",
    "version": 3
   },
   "file_extension": ".py",
   "mimetype": "text/x-python",
   "name": "python",
   "nbconvert_exporter": "python",
   "pygments_lexer": "ipython3",
   "version": "3.7.4"
  }
 },
 "nbformat": 4,
 "nbformat_minor": 4
}
